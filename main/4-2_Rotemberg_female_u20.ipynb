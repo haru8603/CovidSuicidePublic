{
 "cells": [
  {
   "cell_type": "markdown",
   "id": "1c9387cb",
   "metadata": {},
   "source": [
    "# Table 4 / Table B7: Rotemberg Diagnosis (females under 20)"
   ]
  },
  {
   "cell_type": "markdown",
   "id": "cd44fdc0",
   "metadata": {},
   "source": [
    "## Required Packages\n",
    "\n",
    "- [`bartik_weight`](https://github.com/paulgp/bartik-weight)  \n",
    "  - Please install the package following the instructions on the GitHub repository."
   ]
  },
  {
   "cell_type": "markdown",
   "id": "4cee42ed",
   "metadata": {},
   "source": [
    "# Code"
   ]
  },
  {
   "cell_type": "markdown",
   "id": "e136c9a5",
   "metadata": {},
   "source": [
    "## Initializing"
   ]
  },
  {
   "cell_type": "code",
   "execution_count": 1,
   "id": "5ee3cef1-b80e-4472-a82e-d50e79bd6446",
   "metadata": {
    "tags": []
   },
   "outputs": [
    {
     "data": {
      "text/html": [
       "\n",
       "<button id=\"code-show-switch-btn\">スクリプトを非表示にする</button>\n",
       "\n",
       "<script>\n",
       "var code_show = true;\n",
       "\n",
       "function switch_display_setting() {\n",
       "    var switch_btn = $(\"#code-show-switch-btn\");\n",
       "    if (code_show) {\n",
       "        $(\"div.input\").hide();\n",
       "        code_show = false;\n",
       "        switch_btn.text(\"スクリプトを表示する\");\n",
       "    }else {\n",
       "        $(\"div.input\").show();\n",
       "        code_show = true;\n",
       "        switch_btn.text(\"スクリプトを非表示にする\");\n",
       "    }\n",
       "}\n",
       "\n",
       "$(\"#code-show-switch-btn\").click(switch_display_setting);\n",
       "</script>\n"
      ],
      "text/plain": [
       "<IPython.core.display.HTML object>"
      ]
     },
     "execution_count": 1,
     "metadata": {},
     "output_type": "execute_result"
    }
   ],
   "source": [
    "from IPython.display import HTML\n",
    "\n",
    "HTML(\"\"\"\n",
    "<button id=\"code-show-switch-btn\">スクリプトを非表示にする</button>\n",
    "\n",
    "<script>\n",
    "var code_show = true;\n",
    "\n",
    "function switch_display_setting() {\n",
    "    var switch_btn = $(\"#code-show-switch-btn\");\n",
    "    if (code_show) {\n",
    "        $(\"div.input\").hide();\n",
    "        code_show = false;\n",
    "        switch_btn.text(\"スクリプトを表示する\");\n",
    "    }else {\n",
    "        $(\"div.input\").show();\n",
    "        code_show = true;\n",
    "        switch_btn.text(\"スクリプトを非表示にする\");\n",
    "    }\n",
    "}\n",
    "\n",
    "$(\"#code-show-switch-btn\").click(switch_display_setting);\n",
    "</script>\n",
    "\"\"\")"
   ]
  },
  {
   "cell_type": "code",
   "execution_count": 2,
   "id": "b416ac47-b7b1-41ba-a0df-d03a52a6835b",
   "metadata": {
    "tags": []
   },
   "outputs": [
    {
     "data": {
      "text/html": [
       "<style>.container { width:110% !important; }</style>"
      ],
      "text/plain": [
       "<IPython.core.display.HTML object>"
      ]
     },
     "metadata": {},
     "output_type": "display_data"
    }
   ],
   "source": [
    "from IPython.display import display, HTML\n",
    "display(HTML(\"<style>.container { width:110% !important; }</style>\"))"
   ]
  },
  {
   "cell_type": "code",
   "execution_count": 3,
   "id": "3c75d06f-4584-4763-b4bf-c9051cba2fd9",
   "metadata": {
    "tags": []
   },
   "outputs": [
    {
     "name": "stdout",
     "output_type": "stream",
     "text": [
      "\n",
      "  ___  ____  ____  ____  ____ ®\n",
      " /__    /   ____/   /   ____/      17.0\n",
      "___/   /   /___/   /   /___/       MP—Parallel Edition\n",
      "\n",
      " Statistics and Data Science       Copyright 1985-2021 StataCorp LLC\n",
      "                                   StataCorp\n",
      "                                   4905 Lakeway Drive\n",
      "                                   College Station, Texas 77845 USA\n",
      "                                   800-STATA-PC        https://www.stata.com\n",
      "                                   979-696-4600        stata@stata.com\n",
      "\n",
      "Stata license: Single-user 4-core  perpetual\n",
      "Serial number: 501706353196\n",
      "  Licensed to: Kobayashi Ryuki\n",
      "               Keio University\n",
      "\n",
      "Notes:\n",
      "      1. Unicode is supported; see help unicode_advice.\n",
      "      2. More than 2 billion observations are allowed; see help obs_advice.\n",
      "      3. Maximum number of variables is set to 5,000 but can be increased;\n",
      "          see help set_maxvar.\n"
     ]
    }
   ],
   "source": [
    "# For mac-OS environment (Kobayahsi)\n",
    "import stata_setup\n",
    "stata_setup.config(\"/Applications/stata\", \"mp\")\n",
    "\n",
    "import pandas as pd\n",
    "import numpy as numpy"
   ]
  },
  {
   "cell_type": "code",
   "execution_count": 4,
   "id": "150761b1-f49d-4a77-a438-a55797c69ea5",
   "metadata": {
    "tags": []
   },
   "outputs": [
    {
     "name": "stdout",
     "output_type": "stream",
     "text": [
      "\n",
      ". qui{\n",
      "\n",
      ". \n"
     ]
    }
   ],
   "source": [
    "%%stata\n",
    "qui{\n",
    "capture restore    \n",
    "use ../data/suicide_analysis_data_static,clear\n",
    "\n",
    "xtset citycode covid  \n",
    "\n",
    "/* Local macro */\n",
    "local clsvars=\"citycode\"\n",
    "\n",
    "local gmm2=\"gmm2s\"\n",
    "local log_=\"log_\"\n",
    "sum suicide\n",
    "local suicide_t_m=r(mean)\n",
    "sum suicide_m\n",
    "local suicide_m_m=r(mean)\n",
    "sum suicide_f\n",
    "local suicide_f_m=r(mean)\n",
    "sum `log_'active_opening_ratio\n",
    "local log_active_opening_ratio_m=r(mean)\n",
    "sum `log_'unemployment_rate\n",
    "local log_unemployment_rate_m=r(mean)\n",
    "sum `log_'patient\n",
    "local log_patient_m=r(mean)\n",
    "sum log_active_opening_weighted\n",
    "local log_active_opening_weighted_m=r(mean)\n",
    "sum log_bankruptcy_debt\n",
    "local log_bankruptcy_debt_m=r(mean)\n",
    "\n",
    "* take first difference    \n",
    "foreach x in u20 20_40 40_60 o60{\n",
    "  gen D_suicide_f_`x'_log=D.suicide_f_`x'_log  \n",
    "}\n",
    "    \n",
    "    \n",
    "* shift share make\n",
    "gen share_0=commuter_ratio_time00 \n",
    "gen share_1=commuter_ratio_time30u\n",
    "gen share_2=commuter_ratio_time30_60\n",
    "gen share_3=commuter_ratio_time60_90\n",
    "gen share_4=commuter_ratio_time90_120\n",
    "gen share_5=commuter_ratio_time120o\n",
    "\n",
    "gen shift_0=telework_ratio_time00_ac-telework_ratio_time00_bc    \n",
    "gen shift_1=telework_ratio_time30u_ac-telework_ratio_time30u_bc    \n",
    "gen shift_2=telework_ratio_time30_60_ac-telework_ratio_time30_60_bc\n",
    "gen shift_3=telework_ratio_time60_90_ac-telework_ratio_time60_90_bc\n",
    "gen shift_4=telework_ratio_time90_120_ac-telework_ratio_time90_120_bc\n",
    "gen shift_5=telework_ratio_time120o_ac-telework_ratio_time120o_bc \n",
    "\n",
    "gen D_shift_share=0    \n",
    "local variables_shift_share=\"\" \n",
    "local variables_iv=\"\"    \n",
    "foreach x of numlist 0/5{\n",
    "  gen iv_`x'=share_`x'*shift_`x'    \n",
    "  replace D_shift_share=D_shift_share+iv_`x' \n",
    "  local variables_shift_share=\"`variables_shift_share' share_`x' shift_`x'  \"     \n",
    "  local variables_iv=\"`variables_iv' iv_`x'\"    \n",
    "}   \n",
    "local variables_orders_all=\"\"     \n",
    "local variables_orders_all=\"`variables_shift_share' `variables_iv' D_shift_share\" \n",
    "\n",
    "local sfx=\"u20\"\n",
    "sum suicide_f_`sfx'\n",
    "local suicide_f_`sfx'_m=r(mean)\n",
    "local paracomp_f_stayhome=\"(stay_home: _b[D.stay_home]*(1+`suicide_f_`sfx'_m')/(`suicide_f_`sfx'_m')) \"\n",
    "}"
   ]
  },
  {
   "cell_type": "markdown",
   "id": "52c4a22b",
   "metadata": {},
   "source": [
    "## Table 4: Panel B"
   ]
  },
  {
   "cell_type": "code",
   "execution_count": 5,
   "id": "1e899c6c",
   "metadata": {},
   "outputs": [
    {
     "name": "stdout",
     "output_type": "stream",
     "text": [
      "\n",
      ". qui{\n",
      "\n",
      "--------------------------------------------------------------------------------------------------------\n",
      "                                 60-90min             30-60min  30-60min & 60-90min        all inclusive\n",
      "                                      (1)                  (2)                  (3)                  (4)\n",
      "                      D.suicide_f_u20_log  D.suicide_f_u20_log  D.suicide_f_u20_log  D.suicide_f_u20_log\n",
      "                                   b/se/p               b/se/p               b/se/p               b/se/p\n",
      "--------------------------------------------------------------------------------------------------------\n",
      "StayHome                            6.820                2.415                5.173                4.505\n",
      "                                  (2.246)              (2.570)              (2.040)              (2.002)\n",
      "                                  [0.002]              [0.347]              [0.011]              [0.024]\n",
      "--------------------------------------------------------------------------------------------------------\n",
      "Effective F statis~c             1681.096              722.220              881.521               11.026\n",
      "tau=10\\%                           23.109               23.109               11.618               22.854\n",
      "Hansen                                                                        2.964                7.131\n",
      "Hansen p-val                                                                  0.085                0.129\n",
      "Observation                          1241                 1241                 1241                 1241\n",
      "--------------------------------------------------------------------------------------------------------\n",
      "\n",
      ". \n"
     ]
    }
   ],
   "source": [
    "%%stata\n",
    "qui{\n",
    "qui: set linesize 200\n",
    "\n",
    "/* bartik */\n",
    "ivreg2 D.suicide_f_`sfx'_log (D.stay_home=D_commuting_time_iv), gmm2s first cluster(`clsvars')  \n",
    "** Save 2nd stage result\n",
    "nlcom `paracomp_f_stayhome', post \n",
    "est store suicide_f_2nd   \n",
    "ivreg2 D.suicide_f_`sfx'_log (D.stay_home=D_commuting_time_iv), gmm2s first cluster(`clsvars') \n",
    "weakivtest\n",
    "estadd scalar F_eff=r(F_eff),replace : suicide_f_2nd\n",
    "estadd scalar c_TSLS_10=r(c_TSLS_10) : suicide_f_2nd\n",
    "    \n",
    "/* the largest rotemberg */\n",
    "ivreg2 D.suicide_f_`sfx'_log (D.stay_home=commuter_ratio_time60_90), gmm2s first cluster(`clsvars')  savefirst savefprefix(F_1st_)\n",
    "est store suicide_f_1st_60_90\n",
    "** Save 2nd stage result\n",
    "nlcom `paracomp_f_stayhome', post \n",
    "est store suicide_f_2nd_60_90     \n",
    "ivreg2 D.suicide_f_`sfx'_log (D.stay_home=commuter_ratio_time60_90), gmm2s first cluster(`clsvars')  \n",
    "weakivtest\n",
    "estadd scalar F_eff=r(F_eff),replace : suicide_f_2nd_60_90\n",
    "estadd scalar c_TSLS_10=r(c_TSLS_10) : suicide_f_2nd_60_90\n",
    "\n",
    "    \n",
    "/* the second largest rotemberg */\n",
    "ivreg2 D.suicide_f_`sfx'_log (D.stay_home=commuter_ratio_time30_60), gmm2s first cluster(`clsvars')  savefirst savefprefix(F_1st_)\n",
    "est store suicide_f_1st_30_60\n",
    "** Save 2nd stage result\n",
    "nlcom `paracomp_f_stayhome', post \n",
    "est store suicide_f_2nd_30_60    \n",
    "ivreg2 D.suicide_f_`sfx'_log (D.stay_home=commuter_ratio_time30_60), gmm2s first cluster(`clsvars')  \n",
    "weakivtest\n",
    "estadd scalar F_eff=r(F_eff),replace : suicide_f_2nd_30_60\n",
    "estadd scalar c_TSLS_10=r(c_TSLS_10) : suicide_f_2nd_30_60\n",
    "\n",
    "/* the largest and second largest rotemberg */\n",
    "ivreg2 D.suicide_f_`sfx'_log (D.stay_home=commuter_ratio_time30_60 commuter_ratio_time60_90), gmm2s  cluster(`clsvars') first savefirst savefprefix(F_1st_)\n",
    "est store suicide_f_1st_30_60_90\n",
    "** Save 2nd stage result\n",
    "nlcom `paracomp_f_stayhome', post \n",
    "est store suicide_f_2nd_30_60_90     \n",
    "ivreg2 D.suicide_f_`sfx'_log (D.stay_home=commuter_ratio_time30_60 commuter_ratio_time60_90), gmm2s  cluster(`clsvars')  \n",
    "local hj= e(j)\n",
    "local hjp=e(jp)\n",
    "estadd scalar hansenj= `hj' : suicide_f_2nd_30_60_90  \n",
    "estadd scalar  hansenjp=`hjp'  : suicide_f_2nd_30_60_90       \n",
    "ivreg2 D.suicide_f_`sfx'_log (D.stay_home=commuter_ratio_time30_60 commuter_ratio_time60_90), gmm2s  cluster(`clsvars') \n",
    "weakivtest    \n",
    "estadd scalar F_eff=r(F_eff),replace : suicide_f_2nd_30_60_90\n",
    "estadd scalar c_TSLS_10=r(c_TSLS_10) : suicide_f_2nd_30_60_90\n",
    "\n",
    "/* all ivs */\n",
    "ivreg2 D.suicide_f_`sfx'_log (D.stay_home=commuter_ratio_time00 commuter_ratio_time30u commuter_ratio_time30_60 commuter_ratio_time60_90 commuter_ratio_time90_120 commuter_ratio_time120o), gmm2s  cluster(`clsvars') first savefirst savefprefix(F_1st_)\n",
    "est store suicide_f_1st_all\n",
    "** Save 2nd stage result\n",
    "nlcom `paracomp_f_stayhome', post \n",
    "est store suicide_f_2nd_all\n",
    "ivreg2 D.suicide_f_`sfx'_log (D.stay_home=commuter_ratio_time00 commuter_ratio_time30u commuter_ratio_time30_60 commuter_ratio_time60_90 commuter_ratio_time90_120 commuter_ratio_time120o), gmm2s  cluster(`clsvars') \n",
    "local hj= e(j)\n",
    "local hjp=e(jp)\n",
    "estadd scalar hansenj= `hj',replace : suicide_f_2nd_all\n",
    "estadd scalar hansenjp=`hjp',replace  : suicide_f_2nd_all     \n",
    "ivreg2 D.suicide_f_`sfx'_log (D.stay_home=commuter_ratio_time00 commuter_ratio_time30u commuter_ratio_time30_60 commuter_ratio_time60_90 commuter_ratio_time90_120 commuter_ratio_time120o), gmm2s  cluster(`clsvars') \n",
    "weakivtest    \n",
    "estadd scalar F_eff=r(F_eff),replace : suicide_f_2nd_all\n",
    "estadd scalar c_TSLS_10=r(c_TSLS_10) : suicide_f_2nd_all\n",
    "\n",
    "\n",
    "#delimit;\n",
    "noi: esttab \n",
    "suicide_f_2nd_60_90 \n",
    "suicide_f_2nd_30_60\n",
    "suicide_f_2nd_30_60_90\n",
    "suicide_f_2nd_all    , \n",
    "cells(b(fmt(3)) se(fmt(3) par) p(fmt(3) par([ ]))) star(* 0.10 ** 0.05  *** 0.01) label\n",
    "stats( F_eff c_TSLS_10  hansenj hansenjp N, layout(@ @ @ @ @ ) fmt( 3 3 3 3 %5.0f) labels( \"Effective F statistic\" \"tau=10\\%\" \"Hansen\" \"Hansen p-val\" \"Observation\")) \n",
    "mgroups(\"60-90min\"  \"30-60min\" \"30-60min & 60-90min\" \"all inclusive\", pattern(1 1 1 1)   )       \n",
    "varwidth(20) modelwidth(20);  \n",
    "};\n"
   ]
  },
  {
   "cell_type": "markdown",
   "id": "ac3e5963",
   "metadata": {},
   "source": [
    "## Preparing Rotemberg"
   ]
  },
  {
   "cell_type": "markdown",
   "id": "9f3698d0-9faf-4460-9e6d-de095553f635",
   "metadata": {},
   "source": [
    "### original beta"
   ]
  },
  {
   "cell_type": "code",
   "execution_count": 6,
   "id": "8bcd3405-dee7-4154-8df0-873cd3fd1b02",
   "metadata": {
    "tags": []
   },
   "outputs": [
    {
     "name": "stdout",
     "output_type": "stream",
     "text": [
      "\n",
      ". qui{\n",
      " beta\n",
      "4.8226842\n",
      "\n",
      ". \n"
     ]
    }
   ],
   "source": [
    "%%stata\n",
    "qui{\n",
    "keep if covid==1       \n",
    "local y D_suicide_f_`sfx'_log\n",
    "local x D_stay_home\n",
    "local z D_shift_share\n",
    "order `y' `x' `z' `variables_orders_all'    \n",
    "ivreg2 D_suicide_f_`sfx'_log (D_stay_home=D_shift_share), gmm2s cluster(`clsvars')\n",
    "noi: di \" beta\"\n",
    "noi: di _b[D_stay_home]*(1+`suicide_f_`sfx'_m')/(`suicide_f_`sfx'_m')\n",
    "}"
   ]
  },
  {
   "cell_type": "markdown",
   "id": "8f65a371-c150-4d84-9501-fae17159109e",
   "metadata": {},
   "source": [
    "### first stage"
   ]
  },
  {
   "cell_type": "code",
   "execution_count": 7,
   "id": "c79b1ab7-3ea1-418c-851a-d35787a12d60",
   "metadata": {
    "tags": []
   },
   "outputs": [
    {
     "name": "stdout",
     "output_type": "stream",
     "text": [
      "\n",
      ". qui{\n",
      "First Stage F value\n",
      "1964.1835\n",
      "\n",
      ". \n"
     ]
    }
   ],
   "source": [
    "%%stata\n",
    "qui{\n",
    "local share_stub share_\n",
    "local shift_stub shift_\n",
    "local iv_stub iv_\n",
    "\n",
    "qui reg `x' `z'  , cluster(`clsvars')\n",
    "scalar Fa = e(F)\n",
    "noi: di \"First Stage F value\"\n",
    "noi: di Fa\n",
    "}"
   ]
  },
  {
   "cell_type": "code",
   "execution_count": 8,
   "id": "e24da2ac-f830-4013-9bc3-afd1768f308e",
   "metadata": {
    "tags": []
   },
   "outputs": [
    {
     "name": "stdout",
     "output_type": "stream",
     "text": [
      "\n",
      ". qui{\n",
      "\n",
      ". \n"
     ]
    }
   ],
   "source": [
    "%%stata\n",
    "qui{\n",
    "foreach var of varlist `share_stub'* {\n",
    "    if regexm(\"`var'\", \"`share_stub'(.*)\") {\n",
    "    local k = regexs(1) \n",
    "    }\n",
    "    tempvar temp\n",
    "    qui gen `temp' = `var' * `shift_stub'`k'\n",
    "    qui reg `x' `temp' , cluster(`clsvars')\n",
    "    local pi_`k' = _b[`temp']\n",
    "    qui test `temp'\n",
    "    scalar Fv = e(F)\n",
    "    local F_`k' = Fv\n",
    "\n",
    "    qui reg `y' `temp' ,  cluster(`clsvars')\n",
    "    local gamma_`k' = _b[`temp']\n",
    "    drop `temp'\n",
    "}\n",
    "}                                      "
   ]
  },
  {
   "cell_type": "code",
   "execution_count": 9,
   "id": "180dbfd8-3c84-4b47-8058-f63d5a78db5b",
   "metadata": {
    "tags": []
   },
   "outputs": [
    {
     "name": "stdout",
     "output_type": "stream",
     "text": [
      "\n",
      ". qui{\n",
      "\n",
      ". \n"
     ]
    }
   ],
   "source": [
    "%%stata\n",
    "qui{\n",
    "tempfile temp\n",
    "preserve\n",
    "foreach var of varlist `variables_iv' {\n",
    "  egen var_`var' = sd(`var')\n",
    "  replace var_`var' = var_`var'^2\n",
    "}\n",
    "keep if _n==1\n",
    "keep var_*\n",
    "gen id=_n\n",
    "reshape long  var_iv_,i(id) j(cat)\n",
    "drop id\n",
    "save `temp',replace\n",
    "restore\n",
    "}"
   ]
  },
  {
   "cell_type": "markdown",
   "id": "bf769a38-db09-4df5-9245-d8ff5ed2fe77",
   "metadata": {},
   "source": [
    "### Rotemberg"
   ]
  },
  {
   "cell_type": "code",
   "execution_count": 10,
   "id": "6405a2bc-e856-4b89-b2c8-838dd4d7cf32",
   "metadata": {
    "tags": []
   },
   "outputs": [
    {
     "name": "stdout",
     "output_type": "stream",
     "text": [
      "\n",
      ". qui{\n",
      "Controls: \n",
      "X variable is D_stay_home\n",
      "Y variable is D_suicide_f_u20_log\n",
      "No BY variable \n",
      "\n",
      ". \n"
     ]
    }
   ],
   "source": [
    "%%stata\n",
    "qui{\n",
    "drop if share_0==.\n",
    "noi: bartik_weight, z(`share_stub'*)  weightstub(`shift_stub'*) x(`x') y(`y') \n",
    "\n",
    "mat beta = r(beta)*(1+`suicide_f_`sfx'_m')/(`suicide_f_`sfx'_m')\n",
    "mat alpha = r(alpha)\n",
    "mat gamma = r(gam)\n",
    "mat pi = r(pi)\n",
    "mat G = r(G)\n",
    "qui desc `share_stub'*, varlist\n",
    "local varlist = r(varlist)\n",
    "\n",
    "svmat beta\n",
    "svmat alpha\n",
    "svmat gamma\n",
    "svmat pi\n",
    "svmat G  \n",
    "save rotemberg_data,replace\n",
    "}\n"
   ]
  },
  {
   "cell_type": "code",
   "execution_count": 11,
   "id": "c8969c28-ff09-4bbb-949d-40517bc4a4ed",
   "metadata": {
    "tags": []
   },
   "outputs": [
    {
     "name": "stdout",
     "output_type": "stream",
     "text": [
      "\n",
      ". qui{\n",
      "\n",
      "    cat             commute_time      beta1     alpha1         G1  \n",
      "      0                 zero min   1.812932          0          0  \n",
      "      1         less than 30 min   4.619551   -.397311   .0504364  \n",
      "      2    between 30 and 60 min   2.414526   .5506502   .1550137  \n",
      "      3    between 60 and 90 min   6.820117   .6590508   .1883896  \n",
      "      4   between 90 and 120 min   4.451021   .1845576   .2121193  \n",
      "      5        more than 120 min   4.013603   .0030525   .0420141  \n",
      "\n",
      ". \n"
     ]
    }
   ],
   "source": [
    "%%stata\n",
    "qui{\n",
    "gen cat = \"\"\n",
    "local t = 1\n",
    "foreach var in `varlist' {\n",
    "    if regexm(\"`var'\", \"`share_stub'(.*)\") {\n",
    "    qui replace cat = regexs(1) if _n == `t'\n",
    "    }\n",
    "    local t = `t' + 1\n",
    "}\n",
    "destring(cat),replace force\n",
    "keep  cat beta1* alpha* gamma* pi* G*\n",
    "drop if cat==.\n",
    "gen commute_time=\"zero min\"\n",
    "replace commute_time=\"      less than 30 min\" if cat==1\n",
    "replace commute_time=\" between 30 and 60 min\" if cat==2\n",
    "replace commute_time=\" between 60 and 90 min\" if cat==3\n",
    "replace commute_time=\"between 90 and 120 min\" if cat==4\n",
    "replace commute_time=\"     more than 120 min\" if cat==5\n",
    "noi: list cat commute_time beta1 alpha1 G1,table clean  noobs  \n",
    "}"
   ]
  },
  {
   "cell_type": "code",
   "execution_count": 12,
   "id": "a293a53c-e81d-4c0a-b3cc-b74dd8ffe512",
   "metadata": {
    "tags": []
   },
   "outputs": [
    {
     "name": "stdout",
     "output_type": "stream",
     "text": [
      "\n",
      ". qui{\n",
      "\n",
      "  alpha_sign |      Freq.     Percent        Cum.\n",
      "-------------+-----------------------------------\n",
      "negative (-) |          1       16.67       16.67\n",
      "           0 |          1       16.67       33.33\n",
      "positive (+) |          4       66.67      100.00\n",
      "-------------+-----------------------------------\n",
      "       Total |          6      100.00\n",
      "(obs=6)\n",
      "\n",
      "             |   alpha1       G1    beta1        F  var_iv_\n",
      "-------------+---------------------------------------------\n",
      "      alpha1 |   1.0000\n",
      "          G1 |   0.7015   1.0000\n",
      "       beta1 |   0.2304   0.5085   1.0000\n",
      "           F |   0.0575   0.3112   0.6799   1.0000\n",
      "     var_iv_ |   0.7648   0.6081   0.3704   0.6093   1.0000\n",
      "\n",
      "\n",
      "Total estimation                             Number of obs = 6\n",
      "\n",
      "--------------------------------------------------------------\n",
      "             |      Total   Std. err.     [95% conf. interval]\n",
      "-------------+------------------------------------------------\n",
      "       omega |   4.822685   5.154212      -8.42664    18.07201\n",
      "--------------------------------------------------------------\n",
      "4.822685\n",
      "\n",
      ". \n"
     ]
    }
   ],
   "source": [
    "%%stata\n",
    "qui{\n",
    "gen alpha_sign=-1 if alpha1<0\n",
    "replace  alpha_sign=0 if alpha1==0\n",
    "replace  alpha_sign=1 if alpha1>0\n",
    "label define sign -1 \"negative (-)\" 0 \"0\" 1 \"positive (+)\"\n",
    "label value alpha_sign sign\n",
    "noi tab  alpha_sign\n",
    "\n",
    "gen F = .\n",
    "gen pi = .\n",
    "gen gamma = .\n",
    "levelsof cat, local(cats)\n",
    "foreach cat in `cats' {\n",
    "\tcapture replace F = `F_`cat'' if cat == `cat'\n",
    "\tcapture replace pi = `pi_`cat'' if cat == `cat'\n",
    "\tcapture replace gamma = `gamma_`cat'' if cat == `cat'\n",
    "\t}\n",
    "merge 1:1 cat using `temp'\n",
    "noi: corr alpha1 G1 beta1 F var_iv\n",
    "save rotemberg_result,replace\n",
    "gen omega = alpha1*beta1\n",
    "noi: total omega\n",
    "mat b = e(b)\n",
    "global omega = b[1,1]\n",
    "noi: di $omega      \n",
    "local b=$omega   \n",
    "}\n"
   ]
  },
  {
   "cell_type": "markdown",
   "id": "6e97cabf-e45c-4073-84f8-941221b7ef99",
   "metadata": {},
   "source": [
    "## Table B7: Panel A"
   ]
  },
  {
   "cell_type": "code",
   "execution_count": 13,
   "id": "bd7c7834-e292-4617-99bd-00aa013df36e",
   "metadata": {},
   "outputs": [
    {
     "name": "stdout",
     "output_type": "stream",
     "text": [
      "\n",
      ". qui{\n",
      "           Sum       Mean    Share \n",
      "Negative : -0.397  -0.397  0.221 \n",
      "Positive : 1.397    0.349  0.779 \n",
      "\n",
      ". \n"
     ]
    }
   ],
   "source": [
    "%%stata\n",
    "qui{\n",
    "use rotemberg_result,clear\n",
    "total alpha1 if  alpha_sign> 0\n",
    "mat b = e(b)\n",
    "local sum_pos_alpha = string(b[1,1], \"%9.3f\")\n",
    "total alpha1 if  alpha_sign < 0\n",
    "mat b = e(b)\n",
    "local sum_neg_alpha = string(b[1,1], \"%9.3f\")\n",
    "sum alpha1 if alpha_sign > 0\n",
    "local mean_pos_alpha = string(r(mean), \"%9.3f\")\n",
    "sum alpha1 if alpha_sign < 0\n",
    "local mean_neg_alpha = string(r(mean), \"%9.3f\")\n",
    "local share_pos_alpha = string(abs(`sum_pos_alpha')/(abs(`sum_pos_alpha') + abs(`sum_neg_alpha')), \"%9.3f\")\n",
    "local share_neg_alpha = string(abs(`sum_neg_alpha')/(abs(`sum_pos_alpha') + abs(`sum_neg_alpha')), \"%9.3f\")\n",
    "noi: di  \"           Sum       Mean    Share \"                                                                                \n",
    "noi: di \"Negative : `sum_neg_alpha'  `mean_neg_alpha'  `share_neg_alpha' \" \n",
    "noi: di \"Positive : `sum_pos_alpha'    `mean_pos_alpha'  `share_pos_alpha' \"    \n",
    "}                            "
   ]
  },
  {
   "cell_type": "markdown",
   "id": "8033d7ac-4131-49a4-943a-8bc1b63b5835",
   "metadata": {},
   "source": [
    "## Table B7: Panel B"
   ]
  },
  {
   "cell_type": "code",
   "execution_count": 14,
   "id": "a5d2e165-5635-4a25-9cff-7287fba3c1b5",
   "metadata": {},
   "outputs": [
    {
     "name": "stdout",
     "output_type": "stream",
     "text": [
      "\n",
      ". qui{\n",
      "correlation\n",
      " alpha_k               1\n",
      " g_k                   .702   1\n",
      " beta_k                .23   .508    1\n",
      " F_k                   .0575   .311    .68   1\n",
      " Var(z_k)              .765   .608    .37   .609   1\n",
      "\n",
      ". \n"
     ]
    }
   ],
   "source": [
    "%%stata\n",
    "qui{\n",
    "corr alpha1 G1 beta1 F var_iv\n",
    "mat corr = r(C)\n",
    "qui: mat list corr\n",
    "forvalues i =1/5 {\n",
    "forvalues j = `i'/5 {\n",
    "local c_`i'_`j' = string(corr[`i',`j'], \"%9.3g\")\n",
    "}\n",
    "}\n",
    "noi: di \"correlation\"\n",
    "noi: di \" alpha_k               1\" \n",
    "noi: di \" g_k                   `c_1_2'   1\" \n",
    "noi: di \" beta_k                `c_1_3'   `c_2_3'    1\" \n",
    "noi: di \" F_k                   `c_1_4'   `c_2_4'    `c_3_4'   1\" \n",
    "noi: di \" Var(z_k)              `c_1_5'   `c_2_5'    `c_3_5'   `c_4_5'   1\" \n",
    "}"
   ]
  },
  {
   "cell_type": "markdown",
   "id": "ee8b3d9f-6729-4978-97ca-c5067dea3ed4",
   "metadata": {},
   "source": [
    "## Table 4: Panel A / Table B7: Panel C"
   ]
  },
  {
   "cell_type": "code",
   "execution_count": 15,
   "id": "e152f5c0-09e7-430a-a9f0-86f71080e9bd",
   "metadata": {
    "tags": []
   },
   "outputs": [
    {
     "name": "stdout",
     "output_type": "stream",
     "text": [
      "\n",
      ". qui{\n",
      "     commuting time  : alpha     beta_k  F  G 95 % CI  \n",
      "      less than 30 min:  -0.397   4.620 1807.293 　0.050   [0.626, 8.595]\n",
      " between 30 and 60 min:  0.551   2.415 722.220 　0.155   [-2.618, 7.456]\n",
      " between 60 and 90 min:  0.659   6.820 1681.096 　0.188   [2.448, 11.213]\n",
      "between 90 and 120 min:  0.185   4.451 439.269 　0.212   [-1.651, 10.416]\n",
      "     more than 120 min:  0.003   4.014 26.637 　0.042   [-12.010, 20.775]\n",
      "\n",
      ". \n"
     ]
    }
   ],
   "source": [
    "%%stata\n",
    "qui{\n",
    "use rotemberg_result,clear\n",
    " foreach cat in `cats' {\n",
    "   sum alpha1 if cat == `cat'\n",
    "   local alpha_`cat' = string(r(mean),\"%9.3f\")\n",
    "   sum G1 if cat == `cat' \n",
    "   local G_`cat' = string(r(mean), \"%9.3f\")\n",
    "   sum beta1 if cat == `cat'\n",
    "   local beta_`cat' = string(r(mean),\"%9.3f\")  \n",
    "   sum F if cat == `cat'\n",
    "   local F_`cat' = string(r(mean),\"%9.3f\")      \n",
    "   gen first_commute_time = commute_time   if cat == `cat'\n",
    "   gsort - first_commute_time \n",
    "   list first_commute_time \n",
    "   local commute_time_`cat'=first_commute_time[1]\n",
    "   drop first_commute_time    \n",
    "}\n",
    "use rotemberg_data,clear\n",
    "foreach cat in `cats' {\n",
    "   tempvar temp\n",
    "   qui gen `temp' =  `share_stub'`cat' * `shift_stub'`cat'\n",
    "   ch_weak, p(.05) beta_range(-10.0(.01)5.0)  y(`y') x(`x') z(`temp') cluster(`clsvars')\n",
    "   local omega_min= r(beta_min)*(1+`suicide_f_`sfx'_m')/(`suicide_f_`sfx'_m')\n",
    "   local omega_max= r(beta_max)*(1+`suicide_f_`sfx'_m')/(`suicide_f_`sfx'_m')\n",
    "   local ci_min_`cat' =string(`omega_min', \"%20.3f\")\n",
    "   local ci_max_`cat' =string(`omega_max', \"%20.3f\")\n",
    "   if `cat'>=1{ \n",
    "   if `cat'==1{\n",
    "   noi: disp  as text \"     commuting time  : alpha     beta_k  F  G 95 % CI  \"\n",
    "   }\n",
    "   noi: disp \"`commute_time_`cat'':  `alpha_`cat''   `beta_`cat'' `F_`cat'' 　`G_`cat''   [`ci_min_`cat'', `ci_max_`cat'']\"\n",
    "   }\n",
    "   drop `temp'\n",
    "}\n",
    "}"
   ]
  },
  {
   "cell_type": "markdown",
   "id": "81a1aefb-f88d-4d54-9e33-7ac06689aa04",
   "metadata": {},
   "source": [
    "## Table B7: Panel D"
   ]
  },
  {
   "cell_type": "code",
   "execution_count": 16,
   "id": "b3153f4c-ac50-47a9-b784-05ae116427f9",
   "metadata": {
    "tags": []
   },
   "outputs": [
    {
     "name": "stdout",
     "output_type": "stream",
     "text": [
      "\n",
      ". qui{\n",
      " beta_k   : weight_sum    share sum \n",
      " Negative : -1.835   -0.381       4.620 \n",
      " Positive : 6.658   1.381       4.425 \n",
      "\n",
      ". \n"
     ]
    }
   ],
   "source": [
    "%%stata\n",
    "qui{\n",
    "use rotemberg_result,clear\n",
    "drop if alpha_sign==0    \n",
    "gen positive_weight = alpha1 > 0\n",
    "gen beta1_weight = beta1 * alpha1\n",
    "collapse (sum) beta1_weight alpha1 (mean)  beta1, by(positive_weight)\n",
    "gsort -positive_weight\n",
    "gen beta1_share=beta1_weight/`b'    \n",
    "local agg_beta_pos = string( beta1_weight[1], \"%20.3f\")\n",
    "local agg_beta_neg = string( beta1_weight[2], \"%20.3f\")\n",
    "local share_beta_pos = string( beta1_share[1], \"%20.3f\")\n",
    "local share_beta_neg = string( beta1_share[2], \"%20.3f\")    \n",
    "local agg_beta_pos2 = string(beta1[1], \"%20.3f\")\n",
    "local agg_beta_neg2 = string(beta1[2], \"%20.3f\")\n",
    "noi: di  as text \" beta_k   : weight_sum    share sum \"     \n",
    "noi: di  as text \" Negative : `agg_beta_neg'   `share_beta_neg'       `agg_beta_neg2' \" \n",
    "noi: di  as text \" Positive : `agg_beta_pos'   `share_beta_pos'       `agg_beta_pos2' \" \n",
    "}"
   ]
  }
 ],
 "metadata": {
  "kernelspec": {
   "display_name": ".venv",
   "language": "python",
   "name": "python3"
  },
  "language_info": {
   "codemirror_mode": {
    "name": "ipython",
    "version": 3
   },
   "file_extension": ".py",
   "mimetype": "text/x-python",
   "name": "python",
   "nbconvert_exporter": "python",
   "pygments_lexer": "ipython3",
   "version": "3.12.11"
  }
 },
 "nbformat": 4,
 "nbformat_minor": 5
}

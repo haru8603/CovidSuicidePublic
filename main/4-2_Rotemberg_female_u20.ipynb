{
 "cells": [
  {
   "cell_type": "markdown",
   "id": "1c9387cb",
   "metadata": {},
   "source": [
    "# Table 4 / Table B7: Rotemberg Diagnosis (females under 20)"
   ]
  },
  {
   "cell_type": "markdown",
   "id": "cd44fdc0",
   "metadata": {},
   "source": [
    "## Required Packages\n",
    "\n",
    "- [`bartik_weight`](https://github.com/paulgp/bartik-weight)  \n",
    "  - Please install the package following the instructions on the GitHub repository."
   ]
  },
  {
   "cell_type": "markdown",
   "id": "4cee42ed",
   "metadata": {},
   "source": [
    "# Code"
   ]
  },
  {
   "cell_type": "markdown",
   "id": "e136c9a5",
   "metadata": {},
   "source": [
    "## Initializing"
   ]
  },
  {
   "cell_type": "code",
   "execution_count": 3,
   "id": "5ee3cef1-b80e-4472-a82e-d50e79bd6446",
   "metadata": {
    "tags": []
   },
   "outputs": [
    {
     "data": {
      "text/html": [
       "\n",
       "<button id=\"code-show-switch-btn\">スクリプトを非表示にする</button>\n",
       "\n",
       "<script>\n",
       "var code_show = true;\n",
       "\n",
       "function switch_display_setting() {\n",
       "    var switch_btn = $(\"#code-show-switch-btn\");\n",
       "    if (code_show) {\n",
       "        $(\"div.input\").hide();\n",
       "        code_show = false;\n",
       "        switch_btn.text(\"スクリプトを表示する\");\n",
       "    }else {\n",
       "        $(\"div.input\").show();\n",
       "        code_show = true;\n",
       "        switch_btn.text(\"スクリプトを非表示にする\");\n",
       "    }\n",
       "}\n",
       "\n",
       "$(\"#code-show-switch-btn\").click(switch_display_setting);\n",
       "</script>\n"
      ],
      "text/plain": [
       "<IPython.core.display.HTML object>"
      ]
     },
     "execution_count": 3,
     "metadata": {},
     "output_type": "execute_result"
    }
   ],
   "source": [
    "from IPython.display import HTML\n",
    "\n",
    "HTML(\"\"\"\n",
    "<button id=\"code-show-switch-btn\">スクリプトを非表示にする</button>\n",
    "\n",
    "<script>\n",
    "var code_show = true;\n",
    "\n",
    "function switch_display_setting() {\n",
    "    var switch_btn = $(\"#code-show-switch-btn\");\n",
    "    if (code_show) {\n",
    "        $(\"div.input\").hide();\n",
    "        code_show = false;\n",
    "        switch_btn.text(\"スクリプトを表示する\");\n",
    "    }else {\n",
    "        $(\"div.input\").show();\n",
    "        code_show = true;\n",
    "        switch_btn.text(\"スクリプトを非表示にする\");\n",
    "    }\n",
    "}\n",
    "\n",
    "$(\"#code-show-switch-btn\").click(switch_display_setting);\n",
    "</script>\n",
    "\"\"\")"
   ]
  },
  {
   "cell_type": "code",
   "execution_count": 4,
   "id": "b416ac47-b7b1-41ba-a0df-d03a52a6835b",
   "metadata": {
    "tags": []
   },
   "outputs": [
    {
     "data": {
      "text/html": [
       "<style>.container { width:110% !important; }</style>"
      ],
      "text/plain": [
       "<IPython.core.display.HTML object>"
      ]
     },
     "metadata": {},
     "output_type": "display_data"
    }
   ],
   "source": [
    "from IPython.display import display, HTML\n",
    "display(HTML(\"<style>.container { width:110% !important; }</style>\"))"
   ]
  },
  {
   "cell_type": "code",
   "execution_count": 5,
   "id": "3c75d06f-4584-4763-b4bf-c9051cba2fd9",
   "metadata": {
    "tags": []
   },
   "outputs": [
    {
     "name": "stdout",
     "output_type": "stream",
     "text": [
      "\n",
      "  ___  ____  ____  ____  ____ ®\n",
      " /__    /   ____/   /   ____/      17.0\n",
      "___/   /   /___/   /   /___/       MP—Parallel Edition\n",
      "\n",
      " Statistics and Data Science       Copyright 1985-2021 StataCorp LLC\n",
      "                                   StataCorp\n",
      "                                   4905 Lakeway Drive\n",
      "                                   College Station, Texas 77845 USA\n",
      "                                   800-STATA-PC        https://www.stata.com\n",
      "                                   979-696-4600        stata@stata.com\n",
      "\n",
      "Stata license: Single-user 4-core  perpetual\n",
      "Serial number: 501706353196\n",
      "  Licensed to: Kobayashi Ryuki\n",
      "               Keio University\n",
      "\n",
      "Notes:\n",
      "      1. Unicode is supported; see help unicode_advice.\n",
      "      2. More than 2 billion observations are allowed; see help obs_advice.\n",
      "      3. Maximum number of variables is set to 5,000 but can be increased;\n",
      "          see help set_maxvar.\n"
     ]
    }
   ],
   "source": [
    "# For mac-OS environment (Kobayahsi)\n",
    "import stata_setup\n",
    "stata_setup.config(\"/Applications/stata\", \"mp\")\n",
    "\n",
    "import pandas as pd\n",
    "import numpy as numpy"
   ]
  },
  {
   "cell_type": "code",
   "execution_count": null,
   "id": "150761b1-f49d-4a77-a438-a55797c69ea5",
   "metadata": {
    "tags": []
   },
   "outputs": [
    {
     "name": "stdout",
     "output_type": "stream",
     "text": [
      "\n",
      ". qui{\n"
     ]
    },
    {
     "name": "stdout",
     "output_type": "stream",
     "text": [
      "\n",
      ". \n"
     ]
    }
   ],
   "source": [
    "%%stata\n",
    "qui{\n",
    "capture restore    \n",
    "use ../data/suicide_analysis_data_static,clear\n",
    "\n",
    "xtset citycode covid  \n",
    "\n",
    "/* Local macro */\n",
    "local clsvars=\"citycode\"\n",
    "\n",
    "local gmm2=\"gmm2s\"\n",
    "local log_=\"log_\"\n",
    "sum suicide\n",
    "local suicide_t_m=r(mean)\n",
    "sum suicide_m\n",
    "local suicide_m_m=r(mean)\n",
    "sum suicide_f\n",
    "local suicide_f_m=r(mean)\n",
    "sum `log_'active_opening_ratio\n",
    "local log_active_opening_ratio_m=r(mean)\n",
    "sum `log_'unemployment_rate\n",
    "local log_unemployment_rate_m=r(mean)\n",
    "sum `log_'patient\n",
    "local log_patient_m=r(mean)\n",
    "sum log_active_opening_weighted\n",
    "local log_active_opening_weighted_m=r(mean)\n",
    "sum log_bankruptcy_debt\n",
    "local log_bankruptcy_debt_m=r(mean)\n",
    "\n",
    "* take first difference    \n",
    "foreach x in u20 20_40 40_60 o60{\n",
    "  gen D_suicide_f_`x'_log=D.suicide_f_`x'_log  \n",
    "}\n",
    "    \n",
    "    \n",
    "* shift share make\n",
    "rename commuter_ratio_time00 share_0\n",
    "rename commuter_ratio_time30u share_1\n",
    "rename commuter_ratio_time30_60 share_2\n",
    "rename commuter_ratio_time60_90 share_3\n",
    "rename commuter_ratio_time90_120 share_4\n",
    "rename commuter_ratio_time120o share_5\n",
    "\n",
    "\n",
    "gen shift_0=telework_ratio_time00_ac-telework_ratio_time00_bc    \n",
    "gen shift_1=telework_ratio_time30u_ac-telework_ratio_time30u_bc    \n",
    "gen shift_2=telework_ratio_time30_60_ac-telework_ratio_time30_60_bc\n",
    "gen shift_3=telework_ratio_time60_90_ac-telework_ratio_time60_90_bc\n",
    "gen shift_4=telework_ratio_time90_120_ac-telework_ratio_time90_120_bc\n",
    "gen shift_5=telework_ratio_time120o_ac-telework_ratio_time120o_bc \n",
    "\n",
    "gen D_shift_share=0    \n",
    "local variables_shift_share=\"\" \n",
    "local variables_iv=\"\"    \n",
    "foreach x of numlist 1/5{\n",
    "  gen iv_`x'=share_`x'*shift_`x'    \n",
    "  replace D_shift_share=D_shift_share+iv_`x' \n",
    "  local variables_shift_share=\"`variables_shift_share' share_`x' shift_`x'  \"     \n",
    "  local variables_iv=\"`variables_iv' iv_`x'\"    \n",
    "}   \n",
    "local variables_orders_all=\"\"     \n",
    "local variables_orders_all=\"`variables_shift_share' `variables_iv' D_shift_share\" \n",
    "\n",
    "local sfx=\"u20\"\n",
    "sum suicide_f_`sfx'\n",
    "local suicide_f_`sfx'_m=r(mean)\n",
    "local paracomp_f_stayhome=\"(stay_home: _b[D.stay_home]*(1+`suicide_f_`sfx'_m')/(`suicide_f_`sfx'_m')) \"\n",
    "}"
   ]
  },
  {
   "cell_type": "markdown",
   "id": "52c4a22b",
   "metadata": {},
   "source": [
    "## Table 4: Panel B"
   ]
  },
  {
   "cell_type": "code",
   "execution_count": 12,
   "id": "367112f9",
   "metadata": {},
   "outputs": [
    {
     "name": "stdout",
     "output_type": "stream",
     "text": [
      "\n",
      ". qui{\n"
     ]
    },
    {
     "name": "stdout",
     "output_type": "stream",
     "text": [
      "\n",
      "Stored estimation results\n",
      "-------------------------\n",
      "-------------------------------------------------------------------------------\n",
      "             |           Dependent  Number of        \n",
      "        Name | Command    variable     param.  Title \n",
      "-------------+-----------------------------------------------------------------\n",
      "F_1st_D_st~e | ivreg2    D.stay_home        6  First-stage regression:\n",
      "             |                                 D.stay_home\n",
      "-------------------------------------------------------------------------------\n",
      "\n",
      "First-stage regressions\n",
      "-----------------------\n",
      "\n",
      "\n",
      "First-stage regression of D.stay_home:\n",
      "\n",
      "Statistics robust to heteroskedasticity and clustering on citycode\n",
      "Number of obs =                   1241\n",
      "Number of clusters (citycode) =   1241\n",
      "------------------------------------------------------------------------------\n",
      "             |               Robust\n",
      " D.stay_home | Coefficient  std. err.      t    P>|t|     [95% conf. interval]\n",
      "-------------+----------------------------------------------------------------\n",
      "        iv_1 |   -.126341   1.832474    -0.07   0.945    -3.721448    3.468766\n",
      "        iv_2 |   1.042505   .5750866     1.81   0.070    -.0857497     2.17076\n",
      "        iv_3 |   1.403406    .501837     2.80   0.005     .4188584    2.387953\n",
      "        iv_4 |   .5249486   .4619006     1.14   0.256    -.3812481    1.431145\n",
      "        iv_5 |  -3.732469   4.281941    -0.87   0.384    -12.13315    4.668215\n",
      "       _cons |  -.0047949    .090132    -0.05   0.958    -.1816237    .1720339\n",
      "------------------------------------------------------------------------------\n",
      "F test of excluded instruments:\n",
      "  F(  5,  1240) =   489.93\n",
      "  Prob > F      =   0.0000\n",
      "Sanderson-Windmeijer multivariate F test of excluded instruments:\n",
      "  F(  5,  1240) =   489.93\n",
      "  Prob > F      =   0.0000\n",
      "\n",
      "\n",
      "\n",
      "Summary results for first-stage regressions\n",
      "-------------------------------------------\n",
      "\n",
      "                                           (Underid)            (Weak id)\n",
      "Variable     | F(  5,  1240)  P-val | SW Chi-sq(  5) P-val | SW F(  5,  1240)\n",
      "D.stay_home  |     489.93    0.0000 |     2461.55   0.0000 |      489.93\n",
      "\n",
      "NB: first-stage test statistics cluster-robust\n",
      "\n",
      "Stock-Yogo weak ID F test critical values for single endogenous regressor:\n",
      "                                    5% maximal IV relative bias    18.37\n",
      "                                   10% maximal IV relative bias    10.83\n",
      "                                   20% maximal IV relative bias     6.77\n",
      "                                   30% maximal IV relative bias     5.25\n",
      "                                   10% maximal IV size             26.87\n",
      "                                   15% maximal IV size             15.09\n",
      "                                   20% maximal IV size             10.98\n",
      "                                   25% maximal IV size              8.84\n",
      "Source: Stock-Yogo (2005).  Reproduced by permission.\n",
      "NB: Critical values are for i.i.d. errors only.\n",
      "\n",
      "Underidentification test\n",
      "Ho: matrix of reduced form coefficients has rank=K1-1 (underidentified)\n",
      "Ha: matrix has rank=K1 (identified)\n",
      "Kleibergen-Paap rk LM statistic          Chi-sq(5)=383.03   P-val=0.0000\n",
      "\n",
      "Weak identification test\n",
      "Ho: equation is weakly identified\n",
      "Cragg-Donald Wald F statistic                                     496.79\n",
      "Kleibergen-Paap Wald rk F statistic                               489.93\n",
      "\n",
      "Stock-Yogo weak ID test critical values for K1=1 and L1=5:\n",
      "                                    5% maximal IV relative bias    18.37\n",
      "                                   10% maximal IV relative bias    10.83\n",
      "                                   20% maximal IV relative bias     6.77\n",
      "                                   30% maximal IV relative bias     5.25\n",
      "                                   10% maximal IV size             26.87\n",
      "                                   15% maximal IV size             15.09\n",
      "                                   20% maximal IV size             10.98\n",
      "                                   25% maximal IV size              8.84\n",
      "Source: Stock-Yogo (2005).  Reproduced by permission.\n",
      "NB: Critical values are for Cragg-Donald F statistic and i.i.d. errors.\n",
      "\n",
      "Weak-instrument-robust inference\n",
      "Tests of joint significance of endogenous regressors B1 in main equation\n",
      "Ho: B1=0 and orthogonality conditions are valid\n",
      "Anderson-Rubin Wald test           F(5,1240)=      2.44     P-val=0.0326\n",
      "Anderson-Rubin Wald test           Chi-sq(5)=     12.27     P-val=0.0313\n",
      "Stock-Wright LM S statistic        Chi-sq(5)=     11.69     P-val=0.0393\n",
      "\n",
      "NB: Underidentification, weak identification and weak-identification-robust\n",
      "    test statistics cluster-robust\n",
      "\n",
      "Number of clusters             N_clust  =       1241\n",
      "Number of observations               N  =       1241\n",
      "Number of regressors                 K  =          2\n",
      "Number of endogenous regressors      K1 =          1\n",
      "Number of instruments                L  =          6\n",
      "Number of excluded instruments       L1 =          5\n",
      "\n",
      "2-Step GMM estimation\n",
      "---------------------\n",
      "\n",
      "Estimates efficient for arbitrary heteroskedasticity and clustering on citycode\n",
      "Statistics robust to heteroskedasticity and clustering on citycode\n",
      "\n",
      "Number of clusters (citycode) =   1241                Number of obs =     1241\n",
      "                                                      F(  1,  1240) =     5.05\n",
      "                                                      Prob > F      =   0.0248\n",
      "Total (centered) SS     =  201.4188297                Centered R2   =   0.0054\n",
      "Total (uncentered) SS   =  203.7076119                Uncentered R2 =   0.0166\n",
      "Residual SS             =  200.3264743                Root MSE      =    .4018\n",
      "\n",
      "------------------------------------------------------------------------------\n",
      "D.           |               Robust\n",
      "su~f_u20_log | Coefficient  std. err.      z    P>|z|     [95% conf. interval]\n",
      "-------------+----------------------------------------------------------------\n",
      "   stay_home |\n",
      "         D1. |   .7914821   .3518011     2.25   0.024     .1019646       1.481\n",
      "             |\n",
      "       _cons |   .0001291   .0202113     0.01   0.995    -.0394844    .0397425\n",
      "------------------------------------------------------------------------------\n",
      "Underidentification test (Kleibergen-Paap rk LM statistic):            383.032\n",
      "                                                   Chi-sq(5) P-val =    0.0000\n",
      "------------------------------------------------------------------------------\n",
      "Weak identification test (Cragg-Donald Wald F statistic):              496.788\n",
      "                         (Kleibergen-Paap rk Wald F statistic):        489.930\n",
      "Stock-Yogo weak ID test critical values:  5% maximal IV relative bias    18.37\n",
      "                                         10% maximal IV relative bias    10.83\n",
      "                                         20% maximal IV relative bias     6.77\n",
      "                                         30% maximal IV relative bias     5.25\n",
      "                                         10% maximal IV size             26.87\n",
      "                                         15% maximal IV size             15.09\n",
      "                                         20% maximal IV size             10.98\n",
      "                                         25% maximal IV size              8.84\n",
      "Source: Stock-Yogo (2005).  Reproduced by permission.\n",
      "NB: Critical values are for Cragg-Donald F statistic and i.i.d. errors.\n",
      "------------------------------------------------------------------------------\n",
      "Hansen J statistic (overidentification test of all instruments):         7.131\n",
      "                                                   Chi-sq(4) P-val =    0.1291\n",
      "------------------------------------------------------------------------------\n",
      "Instrumented:         D.stay_home\n",
      "Excluded instruments: iv_1 iv_2 iv_3 iv_4 iv_5\n",
      "------------------------------------------------------------------------------\n",
      "\n",
      "------------------------------------------------------\n",
      "            60-90 min  30-60 min 30-60 & ~n All shares\n",
      "                  (1)        (2)        (3)        (4)\n",
      "------------------------------------------------------\n",
      "ΔStayHome       6.820      2.415      5.173      4.505\n",
      "              (2.246)    (2.570)    (2.040)    (2.002)\n",
      "              [0.002]    [0.347]    [0.011]    [0.024]\n",
      "------------------------------------------------------\n",
      "Effectiv~c   1681.096    722.220    881.521    403.720\n",
      "τ=10%          23.109     23.109     11.618     14.512\n",
      "Over ID ~t                            2.964      7.131\n",
      "(p-value)                             0.085      0.129\n",
      "Observat~s      1,241      1,241      1,241      1,241\n",
      "------------------------------------------------------\n",
      "\n",
      ". \n"
     ]
    }
   ],
   "source": [
    "%%stata\n",
    "qui{\n",
    "/* Single IV */\n",
    "/* 60-90min  */\n",
    "ivreg2 D.suicide_f_`sfx'_log (D.stay_home=iv_3), gmm2s cluster(`clsvars') first savefirst savefprefix(F_1st_)\n",
    "est store tmp_suicide_f_`sfx'_iv_3\n",
    "nlcom `paracomp_f_stayhome', post\n",
    "est store suicide_f_`sfx'_2nd_3\n",
    "\n",
    "** First stage\n",
    "est restore F_1st_D_stay_home\n",
    "est store suicide_f_`sfx'_1st_3\n",
    "\n",
    "est restore tmp_suicide_f_`sfx'_iv_3\n",
    "weakivtest\n",
    "estadd scalar F_eff=r(F_eff) : suicide_f_`sfx'_2nd_3\n",
    "estadd scalar c_TSLS_10=r(c_TSLS_10) : suicide_f_`sfx'_2nd_3\n",
    "\n",
    "* 30-60min\n",
    "ivreg2 D.suicide_f_`sfx'_log (D.stay_home=iv_2), gmm2s cluster(`clsvars') first savefirst savefprefix(F_1st_)\n",
    "est store tmp_suicide_f_`sfx'_iv_2\n",
    "nlcom `paracomp_f_stayhome', post\n",
    "est store suicide_f_`sfx'_2nd_2\n",
    "\n",
    "** First stage\n",
    "est restore F_1st_D_stay_home\n",
    "est store suicide_f_`sfx'_1st_2\n",
    "\n",
    "est restore tmp_suicide_f_`sfx'_iv_2\n",
    "weakivtest\n",
    "estadd scalar F_eff=r(F_eff) : suicide_f_`sfx'_2nd_2\n",
    "estadd scalar c_TSLS_10=r(c_TSLS_10) : suicide_f_`sfx'_2nd_2\n",
    "\n",
    "/* 60-90min & 30-60min   */\n",
    "ivreg2 D.suicide_f_`sfx'_log (D.stay_home=iv_2 iv_3), gmm2s cluster(`clsvars') first savefirst savefprefix(F_1st_)\n",
    "est store tmp_suicide_f_`sfx'_iv_2_3\n",
    "nlcom `paracomp_f_stayhome', post\n",
    "est store suicide_f_`sfx'_2nd_2_3\n",
    "\n",
    "** First stage\n",
    "est restore F_1st_D_stay_home\n",
    "est store suicide_f_`sfx'_1st_2_3\n",
    "\n",
    "est restore tmp_suicide_f_`sfx'_iv_2_3\n",
    "estadd scalar j = `e(j)' : suicide_f_`sfx'_2nd_2_3\n",
    "estadd scalar jp = `e(jp)' : suicide_f_`sfx'_2nd_2_3\n",
    "weakivtest\n",
    "estadd scalar F_eff=r(F_eff) : suicide_f_`sfx'_2nd_2_3\n",
    "estadd scalar c_TSLS_10=r(c_TSLS_10) : suicide_f_`sfx'_2nd_2_3\n",
    "\n",
    "/* All shares*/\n",
    "noi: ivreg2 D.suicide_f_`sfx'_log (D.stay_home=`variables_iv'), gmm2s cluster(`clsvars') first savefirst savefprefix(F_1st_)\n",
    "est store tmp_suicide_f_`sfx'_all\n",
    "nlcom `paracomp_f_stayhome', post\n",
    "est store suicide_f_`sfx'_2nd_all_share\n",
    "\n",
    "** First stage\n",
    "est restore F_1st_D_stay_home\n",
    "est store suicide_f_`sfx'_1st_all_share\n",
    "\n",
    "est restore tmp_suicide_f_`sfx'_all\n",
    "estadd scalar j = `e(j)' : suicide_f_`sfx'_2nd_all_share\n",
    "estadd scalar jp = `e(jp)' : suicide_f_`sfx'_2nd_all_share\n",
    "weakivtest\n",
    "estadd scalar F_eff=r(F_eff) : suicide_f_`sfx'_2nd_all_share\n",
    "estadd scalar c_TSLS_10=r(c_TSLS_10) : suicide_f_`sfx'_2nd_all_share\n",
    "\n",
    "#delimit ;\n",
    "noi: esttab suicide_f_`sfx'_2nd_3 suicide_f_`sfx'_2nd_2 suicide_f_`sfx'_2nd_2_3 suicide_f_`sfx'_2nd_all_share, \n",
    "label nomtitles collabels(none)\n",
    "coeflabels(\n",
    "  stay_home \"ΔStayHome\" \n",
    ")\n",
    "cells(b(fmt(3)) se(fmt(3) par) p(fmt(3) par([ ]))) \n",
    "stats(\n",
    "  F_eff c_TSLS_10 j jp N, layout(@ @ @ @ @) fmt(3 3 3 3 %5.0fc) \n",
    "  labels(\"Effective F statistic\"  \"τ=10%\" \"Over ID test\" \"(p-value)\" \"Observations\")\n",
    ")\n",
    "mgroups(\n",
    "  \"60-90 min\" \"30-60 min\" \"30-60 & 60-90 min\" \"All shares\", \n",
    "  pattern(1 1 1 1)\n",
    ") \n",
    "varwidth(10) modelwidth(10);\n",
    "\n",
    "};    "
   ]
  },
  {
   "cell_type": "markdown",
   "id": "d145b77e",
   "metadata": {},
   "source": [
    "## Table 4: Panel B → 回らない方"
   ]
  },
  {
   "cell_type": "code",
   "execution_count": 14,
   "id": "428dcbac",
   "metadata": {},
   "outputs": [
    {
     "name": "stdout",
     "output_type": "stream",
     "text": [
      "\n",
      ". qui{\n"
     ]
    },
    {
     "name": "stdout",
     "output_type": "stream",
     "text": [
      "Warning - collinearities detected\n",
      "Vars dropped:       iv_0\n",
      "\n",
      "Stored estimation results\n",
      "-------------------------\n",
      "-------------------------------------------------------------------------------\n",
      "             |           Dependent  Number of        \n",
      "        Name | Command    variable     param.  Title \n",
      "-------------+-----------------------------------------------------------------\n",
      "F_1st_D_st~e | ivreg2    D.stay_home        7  First-stage regression:\n",
      "             |                                 D.stay_home\n",
      "-------------------------------------------------------------------------------\n",
      "\n",
      "First-stage regressions\n",
      "-----------------------\n",
      "\n",
      "\n",
      "First-stage regression of D.stay_home:\n",
      "\n",
      "Statistics robust to heteroskedasticity and clustering on citycode\n",
      "Number of obs =                   1241\n",
      "Number of clusters (citycode) =   1241\n",
      "------------------------------------------------------------------------------\n",
      "             |               Robust\n",
      " D.stay_home | Coefficient  std. err.      t    P>|t|     [95% conf. interval]\n",
      "-------------+----------------------------------------------------------------\n",
      "        iv_0 |          0  (omitted)\n",
      "        iv_1 |   -.126341   1.832474    -0.07   0.945    -3.721448    3.468766\n",
      "        iv_2 |   1.042505   .5750866     1.81   0.070    -.0857497     2.17076\n",
      "        iv_3 |   1.403406    .501837     2.80   0.005     .4188584    2.387953\n",
      "        iv_4 |   .5249486   .4619006     1.14   0.256    -.3812481    1.431145\n",
      "        iv_5 |  -3.732469   4.281941    -0.87   0.384    -12.13315    4.668215\n",
      "       _cons |  -.0047949    .090132    -0.05   0.958    -.1816237    .1720339\n",
      "------------------------------------------------------------------------------\n",
      "F test of excluded instruments:\n",
      "  F(  5,  1240) =   489.93\n",
      "  Prob > F      =   0.0000\n",
      "Sanderson-Windmeijer multivariate F test of excluded instruments:\n",
      "  F(  5,  1240) =   489.93\n",
      "  Prob > F      =   0.0000\n",
      "\n",
      "\n",
      "\n",
      "Summary results for first-stage regressions\n",
      "-------------------------------------------\n",
      "\n",
      "                                           (Underid)            (Weak id)\n",
      "Variable     | F(  5,  1240)  P-val | SW Chi-sq(  5) P-val | SW F(  5,  1240)\n",
      "D.stay_home  |     489.93    0.0000 |     2461.55   0.0000 |      489.93\n",
      "\n",
      "NB: first-stage test statistics cluster-robust\n",
      "\n",
      "Stock-Yogo weak ID F test critical values for single endogenous regressor:\n",
      "                                    5% maximal IV relative bias    18.37\n",
      "                                   10% maximal IV relative bias    10.83\n",
      "                                   20% maximal IV relative bias     6.77\n",
      "                                   30% maximal IV relative bias     5.25\n",
      "                                   10% maximal IV size             26.87\n",
      "                                   15% maximal IV size             15.09\n",
      "                                   20% maximal IV size             10.98\n",
      "                                   25% maximal IV size              8.84\n",
      "Source: Stock-Yogo (2005).  Reproduced by permission.\n",
      "NB: Critical values are for i.i.d. errors only.\n",
      "\n",
      "Underidentification test\n",
      "Ho: matrix of reduced form coefficients has rank=K1-1 (underidentified)\n",
      "Ha: matrix has rank=K1 (identified)\n",
      "Kleibergen-Paap rk LM statistic          Chi-sq(5)=383.03   P-val=0.0000\n",
      "\n",
      "Weak identification test\n",
      "Ho: equation is weakly identified\n",
      "Cragg-Donald Wald F statistic                                     496.79\n",
      "Kleibergen-Paap Wald rk F statistic                               489.93\n",
      "\n",
      "Stock-Yogo weak ID test critical values for K1=1 and L1=5:\n",
      "                                    5% maximal IV relative bias    18.37\n",
      "                                   10% maximal IV relative bias    10.83\n",
      "                                   20% maximal IV relative bias     6.77\n",
      "                                   30% maximal IV relative bias     5.25\n",
      "                                   10% maximal IV size             26.87\n",
      "                                   15% maximal IV size             15.09\n",
      "                                   20% maximal IV size             10.98\n",
      "                                   25% maximal IV size              8.84\n",
      "Source: Stock-Yogo (2005).  Reproduced by permission.\n",
      "NB: Critical values are for Cragg-Donald F statistic and i.i.d. errors.\n",
      "\n",
      "Weak-instrument-robust inference\n",
      "Tests of joint significance of endogenous regressors B1 in main equation\n",
      "Ho: B1=0 and orthogonality conditions are valid\n",
      "Anderson-Rubin Wald test           F(5,1240)=      2.44     P-val=0.0326\n",
      "Anderson-Rubin Wald test           Chi-sq(5)=     12.27     P-val=0.0313\n",
      "Stock-Wright LM S statistic        Chi-sq(5)=     11.69     P-val=0.0393\n",
      "\n",
      "NB: Underidentification, weak identification and weak-identification-robust\n",
      "    test statistics cluster-robust\n",
      "\n",
      "Number of clusters             N_clust  =       1241\n",
      "Number of observations               N  =       1241\n",
      "Number of regressors                 K  =          2\n",
      "Number of endogenous regressors      K1 =          1\n",
      "Number of instruments                L  =          6\n",
      "Number of excluded instruments       L1 =          5\n",
      "\n",
      "2-Step GMM estimation\n",
      "---------------------\n",
      "\n",
      "Estimates efficient for arbitrary heteroskedasticity and clustering on citycode\n",
      "Statistics robust to heteroskedasticity and clustering on citycode\n",
      "\n",
      "Number of clusters (citycode) =   1241                Number of obs =     1241\n",
      "                                                      F(  1,  1240) =     5.05\n",
      "                                                      Prob > F      =   0.0248\n",
      "Total (centered) SS     =  201.4188297                Centered R2   =   0.0054\n",
      "Total (uncentered) SS   =  203.7076119                Uncentered R2 =   0.0166\n",
      "Residual SS             =  200.3264743                Root MSE      =    .4018\n",
      "\n",
      "------------------------------------------------------------------------------\n",
      "D.           |               Robust\n",
      "su~f_u20_log | Coefficient  std. err.      z    P>|z|     [95% conf. interval]\n",
      "-------------+----------------------------------------------------------------\n",
      "   stay_home |\n",
      "         D1. |   .7914821   .3518011     2.25   0.024     .1019646       1.481\n",
      "             |\n",
      "       _cons |   .0001291   .0202113     0.01   0.995    -.0394844    .0397425\n",
      "------------------------------------------------------------------------------\n",
      "Underidentification test (Kleibergen-Paap rk LM statistic):            383.032\n",
      "                                                   Chi-sq(5) P-val =    0.0000\n",
      "------------------------------------------------------------------------------\n",
      "Weak identification test (Cragg-Donald Wald F statistic):              496.788\n",
      "                         (Kleibergen-Paap rk Wald F statistic):        489.930\n",
      "Stock-Yogo weak ID test critical values:  5% maximal IV relative bias    18.37\n",
      "                                         10% maximal IV relative bias    10.83\n",
      "                                         20% maximal IV relative bias     6.77\n",
      "                                         30% maximal IV relative bias     5.25\n",
      "                                         10% maximal IV size             26.87\n",
      "                                         15% maximal IV size             15.09\n",
      "                                         20% maximal IV size             10.98\n",
      "                                         25% maximal IV size              8.84\n",
      "Source: Stock-Yogo (2005).  Reproduced by permission.\n",
      "NB: Critical values are for Cragg-Donald F statistic and i.i.d. errors.\n",
      "------------------------------------------------------------------------------\n",
      "Hansen J statistic (overidentification test of all instruments):         7.131\n",
      "                                                   Chi-sq(4) P-val =    0.1291\n",
      "------------------------------------------------------------------------------\n",
      "Instrumented:         D.stay_home\n",
      "Excluded instruments: iv_1 iv_2 iv_3 iv_4 iv_5\n",
      "Dropped collinear:    iv_0\n",
      "------------------------------------------------------------------------------\n"
     ]
    },
    {
     "ename": "SystemError",
     "evalue": "no observations\nr(2000);\nr(2000);\n",
     "output_type": "error",
     "traceback": [
      "\u001b[31m---------------------------------------------------------------------------\u001b[39m",
      "\u001b[31mSystemError\u001b[39m                               Traceback (most recent call last)",
      "\u001b[36mCell\u001b[39m\u001b[36m \u001b[39m\u001b[32mIn[14]\u001b[39m\u001b[32m, line 1\u001b[39m\n\u001b[32m----> \u001b[39m\u001b[32m1\u001b[39m \u001b[43mget_ipython\u001b[49m\u001b[43m(\u001b[49m\u001b[43m)\u001b[49m\u001b[43m.\u001b[49m\u001b[43mrun_cell_magic\u001b[49m\u001b[43m(\u001b[49m\u001b[33;43m'\u001b[39;49m\u001b[33;43mstata\u001b[39;49m\u001b[33;43m'\u001b[39;49m\u001b[43m,\u001b[49m\u001b[43m \u001b[49m\u001b[33;43m'\u001b[39;49m\u001b[33;43m'\u001b[39;49m\u001b[43m,\u001b[49m\u001b[43m \u001b[49m\u001b[33;43m'\u001b[39;49m\u001b[33;43mqui\u001b[39;49m\u001b[33;43m{\u001b[39;49m\u001b[38;5;130;43;01m\\n\u001b[39;49;00m\u001b[33;43mlocal variables_iv=\u001b[39;49m\u001b[33;43m\"\u001b[39;49m\u001b[33;43m\"\u001b[39;49m\u001b[33;43m    \u001b[39;49m\u001b[38;5;130;43;01m\\n\u001b[39;49;00m\u001b[33;43mforeach x of numlist 0/5\u001b[39;49m\u001b[33;43m{\u001b[39;49m\u001b[38;5;130;43;01m\\n\u001b[39;49;00m\u001b[33;43m  local variables_iv=\u001b[39;49m\u001b[33;43m\"\u001b[39;49m\u001b[33;43m`variables_iv\u001b[39;49m\u001b[38;5;130;43;01m\\'\u001b[39;49;00m\u001b[33;43m iv_`x\u001b[39;49m\u001b[38;5;130;43;01m\\'\u001b[39;49;00m\u001b[33;43m\"\u001b[39;49m\u001b[33;43m    \u001b[39;49m\u001b[38;5;130;43;01m\\n\u001b[39;49;00m\u001b[33;43m}\u001b[39;49m\u001b[38;5;130;43;01m\\n\u001b[39;49;00m\u001b[38;5;130;43;01m\\n\u001b[39;49;00m\u001b[33;43m/* Single IV */\u001b[39;49m\u001b[38;5;130;43;01m\\n\u001b[39;49;00m\u001b[33;43m/* 60-90min  */\u001b[39;49m\u001b[38;5;130;43;01m\\n\u001b[39;49;00m\u001b[33;43mivreg2 D.suicide_f_`sfx\u001b[39;49m\u001b[38;5;130;43;01m\\'\u001b[39;49;00m\u001b[33;43m_log (D.stay_home=iv_3), gmm2s cluster(`clsvars\u001b[39;49m\u001b[38;5;130;43;01m\\'\u001b[39;49;00m\u001b[33;43m) first savefirst savefprefix(F_1st_)\u001b[39;49m\u001b[38;5;130;43;01m\\n\u001b[39;49;00m\u001b[33;43mest store tmp_suicide_f_`sfx\u001b[39;49m\u001b[38;5;130;43;01m\\'\u001b[39;49;00m\u001b[33;43m_iv_3\u001b[39;49m\u001b[38;5;130;43;01m\\n\u001b[39;49;00m\u001b[33;43mnlcom `paracomp_f_stayhome\u001b[39;49m\u001b[38;5;130;43;01m\\'\u001b[39;49;00m\u001b[33;43m, post\u001b[39;49m\u001b[38;5;130;43;01m\\n\u001b[39;49;00m\u001b[33;43mest store suicide_f_`sfx\u001b[39;49m\u001b[38;5;130;43;01m\\'\u001b[39;49;00m\u001b[33;43m_2nd_3\u001b[39;49m\u001b[38;5;130;43;01m\\n\u001b[39;49;00m\u001b[38;5;130;43;01m\\n\u001b[39;49;00m\u001b[33;43m** First stage\u001b[39;49m\u001b[38;5;130;43;01m\\n\u001b[39;49;00m\u001b[33;43mest restore F_1st_D_stay_home\u001b[39;49m\u001b[38;5;130;43;01m\\n\u001b[39;49;00m\u001b[33;43mest store suicide_f_`sfx\u001b[39;49m\u001b[38;5;130;43;01m\\'\u001b[39;49;00m\u001b[33;43m_1st_3\u001b[39;49m\u001b[38;5;130;43;01m\\n\u001b[39;49;00m\u001b[38;5;130;43;01m\\n\u001b[39;49;00m\u001b[33;43mest restore tmp_suicide_f_`sfx\u001b[39;49m\u001b[38;5;130;43;01m\\'\u001b[39;49;00m\u001b[33;43m_iv_3\u001b[39;49m\u001b[38;5;130;43;01m\\n\u001b[39;49;00m\u001b[33;43mweakivtest\u001b[39;49m\u001b[38;5;130;43;01m\\n\u001b[39;49;00m\u001b[33;43mestadd scalar F_eff=r(F_eff) : suicide_f_`sfx\u001b[39;49m\u001b[38;5;130;43;01m\\'\u001b[39;49;00m\u001b[33;43m_2nd_3\u001b[39;49m\u001b[38;5;130;43;01m\\n\u001b[39;49;00m\u001b[33;43mestadd scalar c_TSLS_10=r(c_TSLS_10) : suicide_f_`sfx\u001b[39;49m\u001b[38;5;130;43;01m\\'\u001b[39;49;00m\u001b[33;43m_2nd_3\u001b[39;49m\u001b[38;5;130;43;01m\\n\u001b[39;49;00m\u001b[38;5;130;43;01m\\n\u001b[39;49;00m\u001b[33;43m* 30-60min\u001b[39;49m\u001b[38;5;130;43;01m\\n\u001b[39;49;00m\u001b[33;43mivreg2 D.suicide_f_`sfx\u001b[39;49m\u001b[38;5;130;43;01m\\'\u001b[39;49;00m\u001b[33;43m_log (D.stay_home=iv_2), gmm2s cluster(`clsvars\u001b[39;49m\u001b[38;5;130;43;01m\\'\u001b[39;49;00m\u001b[33;43m) first savefirst savefprefix(F_1st_)\u001b[39;49m\u001b[38;5;130;43;01m\\n\u001b[39;49;00m\u001b[33;43mest store tmp_suicide_f_`sfx\u001b[39;49m\u001b[38;5;130;43;01m\\'\u001b[39;49;00m\u001b[33;43m_iv_2\u001b[39;49m\u001b[38;5;130;43;01m\\n\u001b[39;49;00m\u001b[33;43mnlcom `paracomp_f_stayhome\u001b[39;49m\u001b[38;5;130;43;01m\\'\u001b[39;49;00m\u001b[33;43m, post\u001b[39;49m\u001b[38;5;130;43;01m\\n\u001b[39;49;00m\u001b[33;43mest store suicide_f_`sfx\u001b[39;49m\u001b[38;5;130;43;01m\\'\u001b[39;49;00m\u001b[33;43m_2nd_2\u001b[39;49m\u001b[38;5;130;43;01m\\n\u001b[39;49;00m\u001b[38;5;130;43;01m\\n\u001b[39;49;00m\u001b[33;43m** First stage\u001b[39;49m\u001b[38;5;130;43;01m\\n\u001b[39;49;00m\u001b[33;43mest restore F_1st_D_stay_home\u001b[39;49m\u001b[38;5;130;43;01m\\n\u001b[39;49;00m\u001b[33;43mest store suicide_f_`sfx\u001b[39;49m\u001b[38;5;130;43;01m\\'\u001b[39;49;00m\u001b[33;43m_1st_2\u001b[39;49m\u001b[38;5;130;43;01m\\n\u001b[39;49;00m\u001b[38;5;130;43;01m\\n\u001b[39;49;00m\u001b[33;43mest restore tmp_suicide_f_`sfx\u001b[39;49m\u001b[38;5;130;43;01m\\'\u001b[39;49;00m\u001b[33;43m_iv_2\u001b[39;49m\u001b[38;5;130;43;01m\\n\u001b[39;49;00m\u001b[33;43mweakivtest\u001b[39;49m\u001b[38;5;130;43;01m\\n\u001b[39;49;00m\u001b[33;43mestadd scalar F_eff=r(F_eff) : suicide_f_`sfx\u001b[39;49m\u001b[38;5;130;43;01m\\'\u001b[39;49;00m\u001b[33;43m_2nd_2\u001b[39;49m\u001b[38;5;130;43;01m\\n\u001b[39;49;00m\u001b[33;43mestadd scalar c_TSLS_10=r(c_TSLS_10) : suicide_f_`sfx\u001b[39;49m\u001b[38;5;130;43;01m\\'\u001b[39;49;00m\u001b[33;43m_2nd_2\u001b[39;49m\u001b[38;5;130;43;01m\\n\u001b[39;49;00m\u001b[38;5;130;43;01m\\n\u001b[39;49;00m\u001b[33;43m/* 60-90min & 30-60min   */\u001b[39;49m\u001b[38;5;130;43;01m\\n\u001b[39;49;00m\u001b[33;43mivreg2 D.suicide_f_`sfx\u001b[39;49m\u001b[38;5;130;43;01m\\'\u001b[39;49;00m\u001b[33;43m_log (D.stay_home=iv_2 iv_3), gmm2s cluster(`clsvars\u001b[39;49m\u001b[38;5;130;43;01m\\'\u001b[39;49;00m\u001b[33;43m) first savefirst savefprefix(F_1st_)\u001b[39;49m\u001b[38;5;130;43;01m\\n\u001b[39;49;00m\u001b[33;43mest store tmp_suicide_f_`sfx\u001b[39;49m\u001b[38;5;130;43;01m\\'\u001b[39;49;00m\u001b[33;43m_iv_2_3\u001b[39;49m\u001b[38;5;130;43;01m\\n\u001b[39;49;00m\u001b[33;43mnlcom `paracomp_f_stayhome\u001b[39;49m\u001b[38;5;130;43;01m\\'\u001b[39;49;00m\u001b[33;43m, post\u001b[39;49m\u001b[38;5;130;43;01m\\n\u001b[39;49;00m\u001b[33;43mest store suicide_f_`sfx\u001b[39;49m\u001b[38;5;130;43;01m\\'\u001b[39;49;00m\u001b[33;43m_2nd_2_3\u001b[39;49m\u001b[38;5;130;43;01m\\n\u001b[39;49;00m\u001b[38;5;130;43;01m\\n\u001b[39;49;00m\u001b[33;43m** First stage\u001b[39;49m\u001b[38;5;130;43;01m\\n\u001b[39;49;00m\u001b[33;43mest restore F_1st_D_stay_home\u001b[39;49m\u001b[38;5;130;43;01m\\n\u001b[39;49;00m\u001b[33;43mest store suicide_f_`sfx\u001b[39;49m\u001b[38;5;130;43;01m\\'\u001b[39;49;00m\u001b[33;43m_1st_2_3\u001b[39;49m\u001b[38;5;130;43;01m\\n\u001b[39;49;00m\u001b[38;5;130;43;01m\\n\u001b[39;49;00m\u001b[33;43mest restore tmp_suicide_f_`sfx\u001b[39;49m\u001b[38;5;130;43;01m\\'\u001b[39;49;00m\u001b[33;43m_iv_2_3\u001b[39;49m\u001b[38;5;130;43;01m\\n\u001b[39;49;00m\u001b[33;43mestadd scalar j = `e(j)\u001b[39;49m\u001b[38;5;130;43;01m\\'\u001b[39;49;00m\u001b[33;43m : suicide_f_`sfx\u001b[39;49m\u001b[38;5;130;43;01m\\'\u001b[39;49;00m\u001b[33;43m_2nd_2_3\u001b[39;49m\u001b[38;5;130;43;01m\\n\u001b[39;49;00m\u001b[33;43mestadd scalar jp = `e(jp)\u001b[39;49m\u001b[38;5;130;43;01m\\'\u001b[39;49;00m\u001b[33;43m : suicide_f_`sfx\u001b[39;49m\u001b[38;5;130;43;01m\\'\u001b[39;49;00m\u001b[33;43m_2nd_2_3\u001b[39;49m\u001b[38;5;130;43;01m\\n\u001b[39;49;00m\u001b[33;43mweakivtest\u001b[39;49m\u001b[38;5;130;43;01m\\n\u001b[39;49;00m\u001b[33;43mestadd scalar F_eff=r(F_eff) : suicide_f_`sfx\u001b[39;49m\u001b[38;5;130;43;01m\\'\u001b[39;49;00m\u001b[33;43m_2nd_2_3\u001b[39;49m\u001b[38;5;130;43;01m\\n\u001b[39;49;00m\u001b[33;43mestadd scalar c_TSLS_10=r(c_TSLS_10) : suicide_f_`sfx\u001b[39;49m\u001b[38;5;130;43;01m\\'\u001b[39;49;00m\u001b[33;43m_2nd_2_3\u001b[39;49m\u001b[38;5;130;43;01m\\n\u001b[39;49;00m\u001b[38;5;130;43;01m\\n\u001b[39;49;00m\u001b[33;43m/* All shares*/\u001b[39;49m\u001b[38;5;130;43;01m\\n\u001b[39;49;00m\u001b[33;43mnoi: ivreg2 D.suicide_f_`sfx\u001b[39;49m\u001b[38;5;130;43;01m\\'\u001b[39;49;00m\u001b[33;43m_log (D.stay_home=`variables_iv\u001b[39;49m\u001b[38;5;130;43;01m\\'\u001b[39;49;00m\u001b[33;43m), gmm2s cluster(`clsvars\u001b[39;49m\u001b[38;5;130;43;01m\\'\u001b[39;49;00m\u001b[33;43m) first savefirst savefprefix(F_1st_)\u001b[39;49m\u001b[38;5;130;43;01m\\n\u001b[39;49;00m\u001b[33;43mest store tmp_suicide_f_`sfx\u001b[39;49m\u001b[38;5;130;43;01m\\'\u001b[39;49;00m\u001b[33;43m_all\u001b[39;49m\u001b[38;5;130;43;01m\\n\u001b[39;49;00m\u001b[33;43mnlcom `paracomp_f_stayhome\u001b[39;49m\u001b[38;5;130;43;01m\\'\u001b[39;49;00m\u001b[33;43m, post\u001b[39;49m\u001b[38;5;130;43;01m\\n\u001b[39;49;00m\u001b[33;43mest store suicide_f_`sfx\u001b[39;49m\u001b[38;5;130;43;01m\\'\u001b[39;49;00m\u001b[33;43m_2nd_all_share\u001b[39;49m\u001b[38;5;130;43;01m\\n\u001b[39;49;00m\u001b[38;5;130;43;01m\\n\u001b[39;49;00m\u001b[33;43m** First stage\u001b[39;49m\u001b[38;5;130;43;01m\\n\u001b[39;49;00m\u001b[33;43mest restore F_1st_D_stay_home\u001b[39;49m\u001b[38;5;130;43;01m\\n\u001b[39;49;00m\u001b[33;43mest store suicide_f_`sfx\u001b[39;49m\u001b[38;5;130;43;01m\\'\u001b[39;49;00m\u001b[33;43m_1st_all_share\u001b[39;49m\u001b[38;5;130;43;01m\\n\u001b[39;49;00m\u001b[38;5;130;43;01m\\n\u001b[39;49;00m\u001b[33;43mest restore tmp_suicide_f_`sfx\u001b[39;49m\u001b[38;5;130;43;01m\\'\u001b[39;49;00m\u001b[33;43m_all\u001b[39;49m\u001b[38;5;130;43;01m\\n\u001b[39;49;00m\u001b[33;43mestadd scalar j = `e(j)\u001b[39;49m\u001b[38;5;130;43;01m\\'\u001b[39;49;00m\u001b[33;43m : suicide_f_`sfx\u001b[39;49m\u001b[38;5;130;43;01m\\'\u001b[39;49;00m\u001b[33;43m_2nd_all_share\u001b[39;49m\u001b[38;5;130;43;01m\\n\u001b[39;49;00m\u001b[33;43mestadd scalar jp = `e(jp)\u001b[39;49m\u001b[38;5;130;43;01m\\'\u001b[39;49;00m\u001b[33;43m : suicide_f_`sfx\u001b[39;49m\u001b[38;5;130;43;01m\\'\u001b[39;49;00m\u001b[33;43m_2nd_all_share\u001b[39;49m\u001b[38;5;130;43;01m\\n\u001b[39;49;00m\u001b[33;43mweakivtest\u001b[39;49m\u001b[38;5;130;43;01m\\n\u001b[39;49;00m\u001b[33;43mestadd scalar F_eff=r(F_eff) : suicide_f_`sfx\u001b[39;49m\u001b[38;5;130;43;01m\\'\u001b[39;49;00m\u001b[33;43m_2nd_all_share\u001b[39;49m\u001b[38;5;130;43;01m\\n\u001b[39;49;00m\u001b[33;43mestadd scalar c_TSLS_10=r(c_TSLS_10) : suicide_f_`sfx\u001b[39;49m\u001b[38;5;130;43;01m\\'\u001b[39;49;00m\u001b[33;43m_2nd_all_share\u001b[39;49m\u001b[38;5;130;43;01m\\n\u001b[39;49;00m\u001b[38;5;130;43;01m\\n\u001b[39;49;00m\u001b[33;43m#delimit ;\u001b[39;49m\u001b[38;5;130;43;01m\\n\u001b[39;49;00m\u001b[33;43mnoi: esttab suicide_f_`sfx\u001b[39;49m\u001b[38;5;130;43;01m\\'\u001b[39;49;00m\u001b[33;43m_2nd_3 suicide_f_`sfx\u001b[39;49m\u001b[38;5;130;43;01m\\'\u001b[39;49;00m\u001b[33;43m_2nd_2 suicide_f_`sfx\u001b[39;49m\u001b[38;5;130;43;01m\\'\u001b[39;49;00m\u001b[33;43m_2nd_2_3 suicide_f_`sfx\u001b[39;49m\u001b[38;5;130;43;01m\\'\u001b[39;49;00m\u001b[33;43m_2nd_all_share, \u001b[39;49m\u001b[38;5;130;43;01m\\n\u001b[39;49;00m\u001b[33;43mlabel nomtitles collabels(none)\u001b[39;49m\u001b[38;5;130;43;01m\\n\u001b[39;49;00m\u001b[33;43mcoeflabels(\u001b[39;49m\u001b[38;5;130;43;01m\\n\u001b[39;49;00m\u001b[33;43m  stay_home \u001b[39;49m\u001b[33;43m\"\u001b[39;49m\u001b[33;43mΔStayHome\u001b[39;49m\u001b[33;43m\"\u001b[39;49m\u001b[33;43m \u001b[39;49m\u001b[38;5;130;43;01m\\n\u001b[39;49;00m\u001b[33;43m)\u001b[39;49m\u001b[38;5;130;43;01m\\n\u001b[39;49;00m\u001b[33;43mcells(b(fmt(3)) se(fmt(3) par) p(fmt(3) par([ ]))) \u001b[39;49m\u001b[38;5;130;43;01m\\n\u001b[39;49;00m\u001b[33;43mstats(\u001b[39;49m\u001b[38;5;130;43;01m\\n\u001b[39;49;00m\u001b[33;43m  F_eff c_TSLS_10 j jp N, layout(@ @ @ @ @) fmt(3 3 3 3 \u001b[39;49m\u001b[38;5;132;43;01m%5.0f\u001b[39;49;00m\u001b[33;43mc) \u001b[39;49m\u001b[38;5;130;43;01m\\n\u001b[39;49;00m\u001b[33;43m  labels(\u001b[39;49m\u001b[33;43m\"\u001b[39;49m\u001b[33;43mEffective F statistic\u001b[39;49m\u001b[33;43m\"\u001b[39;49m\u001b[33;43m  \u001b[39;49m\u001b[33;43m\"\u001b[39;49m\u001b[33;43mτ=10\u001b[39;49m\u001b[33;43m%\u001b[39;49m\u001b[33;43m\"\u001b[39;49m\u001b[33;43m \u001b[39;49m\u001b[33;43m\"\u001b[39;49m\u001b[33;43mOver ID test\u001b[39;49m\u001b[33;43m\"\u001b[39;49m\u001b[33;43m \u001b[39;49m\u001b[33;43m\"\u001b[39;49m\u001b[33;43m(p-value)\u001b[39;49m\u001b[33;43m\"\u001b[39;49m\u001b[33;43m \u001b[39;49m\u001b[33;43m\"\u001b[39;49m\u001b[33;43mObservations\u001b[39;49m\u001b[33;43m\"\u001b[39;49m\u001b[33;43m)\u001b[39;49m\u001b[38;5;130;43;01m\\n\u001b[39;49;00m\u001b[33;43m)\u001b[39;49m\u001b[38;5;130;43;01m\\n\u001b[39;49;00m\u001b[33;43mmgroups(\u001b[39;49m\u001b[38;5;130;43;01m\\n\u001b[39;49;00m\u001b[33;43m  \u001b[39;49m\u001b[33;43m\"\u001b[39;49m\u001b[33;43m60-90 min\u001b[39;49m\u001b[33;43m\"\u001b[39;49m\u001b[33;43m \u001b[39;49m\u001b[33;43m\"\u001b[39;49m\u001b[33;43m30-60 min\u001b[39;49m\u001b[33;43m\"\u001b[39;49m\u001b[33;43m \u001b[39;49m\u001b[33;43m\"\u001b[39;49m\u001b[33;43m30-60 & 60-90 min\u001b[39;49m\u001b[33;43m\"\u001b[39;49m\u001b[33;43m \u001b[39;49m\u001b[33;43m\"\u001b[39;49m\u001b[33;43mAll shares\u001b[39;49m\u001b[33;43m\"\u001b[39;49m\u001b[33;43m, \u001b[39;49m\u001b[38;5;130;43;01m\\n\u001b[39;49;00m\u001b[33;43m  pattern(1 1 1 1)\u001b[39;49m\u001b[38;5;130;43;01m\\n\u001b[39;49;00m\u001b[33;43m) \u001b[39;49m\u001b[38;5;130;43;01m\\n\u001b[39;49;00m\u001b[33;43mvarwidth(10) modelwidth(10);\u001b[39;49m\u001b[38;5;130;43;01m\\n\u001b[39;49;00m\u001b[38;5;130;43;01m\\n\u001b[39;49;00m\u001b[33;43m};    \u001b[39;49m\u001b[38;5;130;43;01m\\n\u001b[39;49;00m\u001b[33;43m'\u001b[39;49m\u001b[43m)\u001b[49m\n",
      "\u001b[36mFile \u001b[39m\u001b[32m~/Prof_Nakajima_project/Covid_Programm/Suicide_analysis/.venv/lib/python3.12/site-packages/IPython/core/interactiveshell.py:2565\u001b[39m, in \u001b[36mInteractiveShell.run_cell_magic\u001b[39m\u001b[34m(self, magic_name, line, cell)\u001b[39m\n\u001b[32m   2563\u001b[39m \u001b[38;5;28;01mwith\u001b[39;00m \u001b[38;5;28mself\u001b[39m.builtin_trap:\n\u001b[32m   2564\u001b[39m     args = (magic_arg_s, cell)\n\u001b[32m-> \u001b[39m\u001b[32m2565\u001b[39m     result = \u001b[43mfn\u001b[49m\u001b[43m(\u001b[49m\u001b[43m*\u001b[49m\u001b[43margs\u001b[49m\u001b[43m,\u001b[49m\u001b[43m \u001b[49m\u001b[43m*\u001b[49m\u001b[43m*\u001b[49m\u001b[43mkwargs\u001b[49m\u001b[43m)\u001b[49m\n\u001b[32m   2567\u001b[39m \u001b[38;5;66;03m# The code below prevents the output from being displayed\u001b[39;00m\n\u001b[32m   2568\u001b[39m \u001b[38;5;66;03m# when using magics with decorator @output_can_be_silenced\u001b[39;00m\n\u001b[32m   2569\u001b[39m \u001b[38;5;66;03m# when the last Python token in the expression is a ';'.\u001b[39;00m\n\u001b[32m   2570\u001b[39m \u001b[38;5;28;01mif\u001b[39;00m \u001b[38;5;28mgetattr\u001b[39m(fn, magic.MAGIC_OUTPUT_CAN_BE_SILENCED, \u001b[38;5;28;01mFalse\u001b[39;00m):\n",
      "\u001b[36mFile \u001b[39m\u001b[32m/Applications/stata/utilities/pystata/ipython/stpymagic.py:276\u001b[39m, in \u001b[36mPyStataMagic.stata\u001b[39m\u001b[34m(self, line, cell, local_ns)\u001b[39m\n\u001b[32m    274\u001b[39m     _stata.run(cell, quietly=\u001b[38;5;28;01mTrue\u001b[39;00m, inline=_config.stconfig[\u001b[33m'\u001b[39m\u001b[33mgrshow\u001b[39m\u001b[33m'\u001b[39m])\n\u001b[32m    275\u001b[39m \u001b[38;5;28;01melse\u001b[39;00m:\n\u001b[32m--> \u001b[39m\u001b[32m276\u001b[39m     \u001b[43m_stata\u001b[49m\u001b[43m.\u001b[49m\u001b[43mrun\u001b[49m\u001b[43m(\u001b[49m\u001b[43mcell\u001b[49m\u001b[43m,\u001b[49m\u001b[43m \u001b[49m\u001b[43mquietly\u001b[49m\u001b[43m=\u001b[49m\u001b[38;5;28;43;01mFalse\u001b[39;49;00m\u001b[43m,\u001b[49m\u001b[43m \u001b[49m\u001b[43minline\u001b[49m\u001b[43m=\u001b[49m\u001b[43m_config\u001b[49m\u001b[43m.\u001b[49m\u001b[43mstconfig\u001b[49m\u001b[43m[\u001b[49m\u001b[33;43m'\u001b[39;49m\u001b[33;43mgrshow\u001b[39;49m\u001b[33;43m'\u001b[39;49m\u001b[43m]\u001b[49m\u001b[43m)\u001b[49m\n\u001b[32m    278\u001b[39m \u001b[38;5;28;01mif\u001b[39;00m \u001b[33m'\u001b[39m\u001b[33m-gw\u001b[39m\u001b[33m'\u001b[39m \u001b[38;5;129;01min\u001b[39;00m args \u001b[38;5;129;01mor\u001b[39;00m \u001b[33m'\u001b[39m\u001b[33m-gh\u001b[39m\u001b[33m'\u001b[39m \u001b[38;5;129;01min\u001b[39;00m args:\n\u001b[32m    279\u001b[39m     _config.set_graph_size(gwidth, gheight)\n",
      "\u001b[36mFile \u001b[39m\u001b[32m/Applications/stata/utilities/pystata/stata.py:325\u001b[39m, in \u001b[36mrun\u001b[39m\u001b[34m(cmd, quietly, echo, inline)\u001b[39m\n\u001b[32m    323\u001b[39m \u001b[33m        _stata_wrk2(\u001b[39m\u001b[33m\"\u001b[39m\u001b[33mqui include \u001b[39m\u001b[33m\"\u001b[39m\u001b[33m + tmpf, None, False, 1)\u001b[39m\n\u001b[32m    324\u001b[39m \u001b[33m    else:\u001b[39m\n\u001b[32m--> \u001b[39m\u001b[32m325\u001b[39m \u001b[33m        _stata_wrk2(\u001b[39m\u001b[33;43m\"\u001b[39;49m\u001b[33;43minclude \u001b[39;49m\u001b[33;43m\"\u001b[39;49m\u001b[33;43m + tmpf, None, False, 1)\u001b[39;49m\n\u001b[32m    327\u001b[39m \u001b[33mif inline:\u001b[39m\n\u001b[32m    328\u001b[39m \u001b[33m    if config.get_stipython()>=3:\u001b[39m\n",
      "\u001b[36mFile \u001b[39m\u001b[32m/Applications/stata/utilities/pystata/stata.py:116\u001b[39m, in \u001b[36m_stata_wrk2\u001b[39m\u001b[34m(cmd, real_cmd, colon, mode)\u001b[39m\n\u001b[32m    114\u001b[39m         err = callback[\u001b[32m0\u001b[39m]\n\u001b[32m    115\u001b[39m         callback.clear()\n\u001b[32m--> \u001b[39m\u001b[32m116\u001b[39m         \u001b[38;5;28;01mraise\u001b[39;00m \u001b[38;5;167;01mSystemError\u001b[39;00m(err)\n\u001b[32m    117\u001b[39m \u001b[38;5;28;01mexcept\u001b[39;00m \u001b[38;5;167;01mKeyboardInterrupt\u001b[39;00m:\n\u001b[32m    118\u001b[39m     outputter.done()\n",
      "\u001b[31mSystemError\u001b[39m: no observations\nr(2000);\nr(2000);\n"
     ]
    }
   ],
   "source": [
    "%%stata\n",
    "qui{\n",
    "local variables_iv=\"\"    \n",
    "foreach x of numlist 0/5{\n",
    "  local variables_iv=\"`variables_iv' iv_`x'\"    \n",
    "}\n",
    "\n",
    "/* Single IV */\n",
    "/* 60-90min  */\n",
    "ivreg2 D.suicide_f_`sfx'_log (D.stay_home=iv_3), gmm2s cluster(`clsvars') first savefirst savefprefix(F_1st_)\n",
    "est store tmp_suicide_f_`sfx'_iv_3\n",
    "nlcom `paracomp_f_stayhome', post\n",
    "est store suicide_f_`sfx'_2nd_3\n",
    "\n",
    "** First stage\n",
    "est restore F_1st_D_stay_home\n",
    "est store suicide_f_`sfx'_1st_3\n",
    "\n",
    "est restore tmp_suicide_f_`sfx'_iv_3\n",
    "weakivtest\n",
    "estadd scalar F_eff=r(F_eff) : suicide_f_`sfx'_2nd_3\n",
    "estadd scalar c_TSLS_10=r(c_TSLS_10) : suicide_f_`sfx'_2nd_3\n",
    "\n",
    "* 30-60min\n",
    "ivreg2 D.suicide_f_`sfx'_log (D.stay_home=iv_2), gmm2s cluster(`clsvars') first savefirst savefprefix(F_1st_)\n",
    "est store tmp_suicide_f_`sfx'_iv_2\n",
    "nlcom `paracomp_f_stayhome', post\n",
    "est store suicide_f_`sfx'_2nd_2\n",
    "\n",
    "** First stage\n",
    "est restore F_1st_D_stay_home\n",
    "est store suicide_f_`sfx'_1st_2\n",
    "\n",
    "est restore tmp_suicide_f_`sfx'_iv_2\n",
    "weakivtest\n",
    "estadd scalar F_eff=r(F_eff) : suicide_f_`sfx'_2nd_2\n",
    "estadd scalar c_TSLS_10=r(c_TSLS_10) : suicide_f_`sfx'_2nd_2\n",
    "\n",
    "/* 60-90min & 30-60min   */\n",
    "ivreg2 D.suicide_f_`sfx'_log (D.stay_home=iv_2 iv_3), gmm2s cluster(`clsvars') first savefirst savefprefix(F_1st_)\n",
    "est store tmp_suicide_f_`sfx'_iv_2_3\n",
    "nlcom `paracomp_f_stayhome', post\n",
    "est store suicide_f_`sfx'_2nd_2_3\n",
    "\n",
    "** First stage\n",
    "est restore F_1st_D_stay_home\n",
    "est store suicide_f_`sfx'_1st_2_3\n",
    "\n",
    "est restore tmp_suicide_f_`sfx'_iv_2_3\n",
    "estadd scalar j = `e(j)' : suicide_f_`sfx'_2nd_2_3\n",
    "estadd scalar jp = `e(jp)' : suicide_f_`sfx'_2nd_2_3\n",
    "weakivtest\n",
    "estadd scalar F_eff=r(F_eff) : suicide_f_`sfx'_2nd_2_3\n",
    "estadd scalar c_TSLS_10=r(c_TSLS_10) : suicide_f_`sfx'_2nd_2_3\n",
    "\n",
    "/* All shares*/\n",
    "noi: ivreg2 D.suicide_f_`sfx'_log (D.stay_home=`variables_iv'), gmm2s cluster(`clsvars') first savefirst savefprefix(F_1st_)\n",
    "est store tmp_suicide_f_`sfx'_all\n",
    "nlcom `paracomp_f_stayhome', post\n",
    "est store suicide_f_`sfx'_2nd_all_share\n",
    "\n",
    "** First stage\n",
    "est restore F_1st_D_stay_home\n",
    "est store suicide_f_`sfx'_1st_all_share\n",
    "\n",
    "est restore tmp_suicide_f_`sfx'_all\n",
    "estadd scalar j = `e(j)' : suicide_f_`sfx'_2nd_all_share\n",
    "estadd scalar jp = `e(jp)' : suicide_f_`sfx'_2nd_all_share\n",
    "weakivtest\n",
    "estadd scalar F_eff=r(F_eff) : suicide_f_`sfx'_2nd_all_share\n",
    "estadd scalar c_TSLS_10=r(c_TSLS_10) : suicide_f_`sfx'_2nd_all_share\n",
    "\n",
    "#delimit ;\n",
    "noi: esttab suicide_f_`sfx'_2nd_3 suicide_f_`sfx'_2nd_2 suicide_f_`sfx'_2nd_2_3 suicide_f_`sfx'_2nd_all_share, \n",
    "label nomtitles collabels(none)\n",
    "coeflabels(\n",
    "  stay_home \"ΔStayHome\" \n",
    ")\n",
    "cells(b(fmt(3)) se(fmt(3) par) p(fmt(3) par([ ]))) \n",
    "stats(\n",
    "  F_eff c_TSLS_10 j jp N, layout(@ @ @ @ @) fmt(3 3 3 3 %5.0fc) \n",
    "  labels(\"Effective F statistic\"  \"τ=10%\" \"Over ID test\" \"(p-value)\" \"Observations\")\n",
    ")\n",
    "mgroups(\n",
    "  \"60-90 min\" \"30-60 min\" \"30-60 & 60-90 min\" \"All shares\", \n",
    "  pattern(1 1 1 1)\n",
    ") \n",
    "varwidth(10) modelwidth(10);\n",
    "\n",
    "};    "
   ]
  },
  {
   "cell_type": "markdown",
   "id": "ac3e5963",
   "metadata": {},
   "source": [
    "## Preparing Rotemberg"
   ]
  },
  {
   "cell_type": "markdown",
   "id": "9f3698d0-9faf-4460-9e6d-de095553f635",
   "metadata": {},
   "source": [
    "### original beta"
   ]
  },
  {
   "cell_type": "code",
   "execution_count": null,
   "id": "8bcd3405-dee7-4154-8df0-873cd3fd1b02",
   "metadata": {
    "tags": []
   },
   "outputs": [
    {
     "name": "stdout",
     "output_type": "stream",
     "text": [
      "\n",
      ". qui{\n"
     ]
    },
    {
     "name": "stdout",
     "output_type": "stream",
     "text": [
      " beta\n",
      "4.8226842\n",
      "\n",
      ". \n"
     ]
    }
   ],
   "source": [
    "%%stata\n",
    "qui{\n",
    "keep if covid==1       \n",
    "local y D.suicide_f_`sfx'_log\n",
    "local x D_stay_home\n",
    "local z D_shift_share\n",
    "order `y' `x' `z' `variables_orders_all'    \n",
    "ivreg2 D.suicide_f_`sfx'_log (D_stay_home=D_shift_share), gmm2s cluster(`clsvars')\n",
    "noi: di \" beta\"\n",
    "noi: di _b[D_stay_home]*(1+`suicide_f_`sfx'_m')/(`suicide_f_`sfx'_m')\n",
    "}"
   ]
  },
  {
   "cell_type": "markdown",
   "id": "8f65a371-c150-4d84-9501-fae17159109e",
   "metadata": {},
   "source": [
    "### first stage"
   ]
  },
  {
   "cell_type": "code",
   "execution_count": 6,
   "id": "c79b1ab7-3ea1-418c-851a-d35787a12d60",
   "metadata": {
    "tags": []
   },
   "outputs": [
    {
     "name": "stdout",
     "output_type": "stream",
     "text": [
      "\n",
      ". qui{\n",
      "First Stage F value\n",
      "1964.1835\n",
      "\n",
      ". \n"
     ]
    }
   ],
   "source": [
    "%%stata\n",
    "qui{\n",
    "local share_stub share_\n",
    "local shift_stub shift_\n",
    "local iv_stub iv_\n",
    "\n",
    "qui reg `x' `z'  , cluster(`clsvars')\n",
    "scalar Fa = e(F)\n",
    "noi: di \"First Stage F value\"\n",
    "noi: di Fa\n",
    "}"
   ]
  },
  {
   "cell_type": "code",
   "execution_count": 7,
   "id": "e24da2ac-f830-4013-9bc3-afd1768f308e",
   "metadata": {
    "tags": []
   },
   "outputs": [
    {
     "name": "stdout",
     "output_type": "stream",
     "text": [
      "\n",
      ". qui{\n"
     ]
    },
    {
     "name": "stdout",
     "output_type": "stream",
     "text": [
      "\n",
      ". \n"
     ]
    }
   ],
   "source": [
    "%%stata\n",
    "qui{\n",
    "foreach var of varlist `share_stub'* {\n",
    "    if regexm(\"`var'\", \"`share_stub'(.*)\") {\n",
    "    local k = regexs(1) \n",
    "    }\n",
    "    tempvar temp\n",
    "    qui gen `temp' = `var' * `shift_stub'`k'\n",
    "    qui reg `x' `temp' , cluster(`clsvars')\n",
    "    local pi_`k' = _b[`temp']\n",
    "    qui test `temp'\n",
    "    scalar Fv = e(F)\n",
    "    local F_`k' = Fv\n",
    "\n",
    "    qui reg `y' `temp' ,  cluster(`clsvars')\n",
    "    local gamma_`k' = _b[`temp']\n",
    "    drop `temp'\n",
    "}\n",
    "}                                      "
   ]
  },
  {
   "cell_type": "code",
   "execution_count": 8,
   "id": "180dbfd8-3c84-4b47-8058-f63d5a78db5b",
   "metadata": {
    "tags": []
   },
   "outputs": [
    {
     "name": "stdout",
     "output_type": "stream",
     "text": [
      "\n",
      ". qui{\n"
     ]
    },
    {
     "name": "stdout",
     "output_type": "stream",
     "text": [
      "\n",
      ". \n"
     ]
    }
   ],
   "source": [
    "%%stata\n",
    "qui{\n",
    "tempfile temp\n",
    "preserve\n",
    "foreach var of varlist `variables_iv' {\n",
    "  egen var_`var' = sd(`var')\n",
    "  replace var_`var' = var_`var'^2\n",
    "}\n",
    "keep if _n==1\n",
    "keep var_*\n",
    "gen id=_n\n",
    "reshape long  var_iv_,i(id) j(cat)\n",
    "drop id\n",
    "save `temp',replace\n",
    "restore\n",
    "}"
   ]
  },
  {
   "cell_type": "markdown",
   "id": "bf769a38-db09-4df5-9245-d8ff5ed2fe77",
   "metadata": {},
   "source": [
    "### Rotemberg"
   ]
  },
  {
   "cell_type": "code",
   "execution_count": 9,
   "id": "6405a2bc-e856-4b89-b2c8-838dd4d7cf32",
   "metadata": {
    "tags": []
   },
   "outputs": [
    {
     "name": "stdout",
     "output_type": "stream",
     "text": [
      "\n",
      ". qui{\n",
      "Controls: \n",
      "X variable is D_stay_home\n",
      "Y variable is D_suicide_f_u20_log\n",
      "No BY variable \n"
     ]
    },
    {
     "name": "stdout",
     "output_type": "stream",
     "text": [
      "\n",
      ". \n"
     ]
    }
   ],
   "source": [
    "%%stata\n",
    "qui{\n",
    "drop if share_0==.\n",
    "noi: bartik_weight, z(`share_stub'*)  weightstub(`shift_stub'*) x(`x') y(`y') \n",
    "\n",
    "mat beta = r(beta)*(1+`suicide_f_`sfx'_m')/(`suicide_f_`sfx'_m')\n",
    "mat alpha = r(alpha)\n",
    "mat gamma = r(gam)\n",
    "mat pi = r(pi)\n",
    "mat G = r(G)\n",
    "qui desc `share_stub'*, varlist\n",
    "local varlist = r(varlist)\n",
    "\n",
    "svmat beta\n",
    "svmat alpha\n",
    "svmat gamma\n",
    "svmat pi\n",
    "svmat G  \n",
    "save rotemberg_data,replace\n",
    "}\n"
   ]
  },
  {
   "cell_type": "code",
   "execution_count": 10,
   "id": "c8969c28-ff09-4bbb-949d-40517bc4a4ed",
   "metadata": {
    "tags": []
   },
   "outputs": [
    {
     "name": "stdout",
     "output_type": "stream",
     "text": [
      "\n",
      ". qui{\n",
      "\n",
      "    cat             commute_time      beta1     alpha1         G1  \n",
      "      0                 zero min   1.812932          0          0  \n",
      "      1         less than 30 min   4.619551   -.397311   .0504364  \n",
      "      2    between 30 and 60 min   2.414526   .5506502   .1550137  \n",
      "      3    between 60 and 90 min   6.820117   .6590508   .1883896  \n",
      "      4   between 90 and 120 min   4.451021   .1845576   .2121193  \n",
      "      5        more than 120 min   4.013603   .0030525   .0420141  \n",
      "\n",
      ". \n"
     ]
    }
   ],
   "source": [
    "%%stata\n",
    "qui{\n",
    "gen cat = \"\"\n",
    "local t = 1\n",
    "foreach var in `varlist' {\n",
    "    if regexm(\"`var'\", \"`share_stub'(.*)\") {\n",
    "    qui replace cat = regexs(1) if _n == `t'\n",
    "    }\n",
    "    local t = `t' + 1\n",
    "}\n",
    "destring(cat),replace force\n",
    "keep  cat beta1* alpha* gamma* pi* G*\n",
    "drop if cat==.\n",
    "gen commute_time=\"zero min\"\n",
    "replace commute_time=\"      less than 30 min\" if cat==1\n",
    "replace commute_time=\" between 30 and 60 min\" if cat==2\n",
    "replace commute_time=\" between 60 and 90 min\" if cat==3\n",
    "replace commute_time=\"between 90 and 120 min\" if cat==4\n",
    "replace commute_time=\"     more than 120 min\" if cat==5\n",
    "noi: list cat commute_time beta1 alpha1 G1,table clean  noobs  \n",
    "}"
   ]
  },
  {
   "cell_type": "code",
   "execution_count": 11,
   "id": "a293a53c-e81d-4c0a-b3cc-b74dd8ffe512",
   "metadata": {
    "tags": []
   },
   "outputs": [
    {
     "name": "stdout",
     "output_type": "stream",
     "text": [
      "\n",
      ". qui{\n",
      "\n",
      "  alpha_sign |      Freq.     Percent        Cum.\n",
      "-------------+-----------------------------------\n",
      "negative (-) |          1       16.67       16.67\n",
      "           0 |          1       16.67       33.33\n",
      "positive (+) |          4       66.67      100.00\n",
      "-------------+-----------------------------------\n",
      "       Total |          6      100.00\n"
     ]
    },
    {
     "name": "stdout",
     "output_type": "stream",
     "text": [
      "(obs=6)\n",
      "\n",
      "             |   alpha1       G1    beta1        F  var_iv_\n",
      "-------------+---------------------------------------------\n",
      "      alpha1 |   1.0000\n",
      "          G1 |   0.7015   1.0000\n",
      "       beta1 |   0.2304   0.5085   1.0000\n",
      "           F |   0.0575   0.3112   0.6799   1.0000\n",
      "     var_iv_ |   0.7648   0.6081   0.3704   0.6093   1.0000\n",
      "\n",
      "\n",
      "Total estimation                             Number of obs = 6\n",
      "\n",
      "--------------------------------------------------------------\n",
      "             |      Total   Std. err.     [95% conf. interval]\n",
      "-------------+------------------------------------------------\n",
      "       omega |   4.822685   5.154212      -8.42664    18.07201\n",
      "--------------------------------------------------------------\n",
      "4.822685\n",
      "\n",
      ". \n"
     ]
    }
   ],
   "source": [
    "%%stata\n",
    "qui{\n",
    "gen alpha_sign=-1 if alpha1<0\n",
    "replace  alpha_sign=0 if alpha1==0\n",
    "replace  alpha_sign=1 if alpha1>0\n",
    "label define sign -1 \"negative (-)\" 0 \"0\" 1 \"positive (+)\"\n",
    "label value alpha_sign sign\n",
    "noi tab  alpha_sign\n",
    "\n",
    "gen F = .\n",
    "gen pi = .\n",
    "gen gamma = .\n",
    "levelsof cat, local(cats)\n",
    "foreach cat in `cats' {\n",
    "\tcapture replace F = `F_`cat'' if cat == `cat'\n",
    "\tcapture replace pi = `pi_`cat'' if cat == `cat'\n",
    "\tcapture replace gamma = `gamma_`cat'' if cat == `cat'\n",
    "\t}\n",
    "merge 1:1 cat using `temp'\n",
    "noi: corr alpha1 G1 beta1 F var_iv\n",
    "save rotemberg_result,replace\n",
    "gen omega = alpha1*beta1\n",
    "noi: total omega\n",
    "mat b = e(b)\n",
    "global omega = b[1,1]\n",
    "noi: di $omega      \n",
    "local b=$omega   \n",
    "}\n"
   ]
  },
  {
   "cell_type": "markdown",
   "id": "6e97cabf-e45c-4073-84f8-941221b7ef99",
   "metadata": {},
   "source": [
    "## Table B7: Panel A"
   ]
  },
  {
   "cell_type": "code",
   "execution_count": 12,
   "id": "bd7c7834-e292-4617-99bd-00aa013df36e",
   "metadata": {},
   "outputs": [
    {
     "name": "stdout",
     "output_type": "stream",
     "text": [
      "\n",
      ". qui{\n"
     ]
    },
    {
     "name": "stdout",
     "output_type": "stream",
     "text": [
      "           Sum       Mean    Share \n",
      "Negative : -0.397  -0.397  0.221 \n",
      "Positive : 1.397    0.349  0.779 \n",
      "\n",
      ". \n"
     ]
    }
   ],
   "source": [
    "%%stata\n",
    "qui{\n",
    "use rotemberg_result,clear\n",
    "total alpha1 if  alpha_sign> 0\n",
    "mat b = e(b)\n",
    "local sum_pos_alpha = string(b[1,1], \"%9.3f\")\n",
    "total alpha1 if  alpha_sign < 0\n",
    "mat b = e(b)\n",
    "local sum_neg_alpha = string(b[1,1], \"%9.3f\")\n",
    "sum alpha1 if alpha_sign > 0\n",
    "local mean_pos_alpha = string(r(mean), \"%9.3f\")\n",
    "sum alpha1 if alpha_sign < 0\n",
    "local mean_neg_alpha = string(r(mean), \"%9.3f\")\n",
    "local share_pos_alpha = string(abs(`sum_pos_alpha')/(abs(`sum_pos_alpha') + abs(`sum_neg_alpha')), \"%9.3f\")\n",
    "local share_neg_alpha = string(abs(`sum_neg_alpha')/(abs(`sum_pos_alpha') + abs(`sum_neg_alpha')), \"%9.3f\")\n",
    "noi: di  \"           Sum       Mean    Share \"                                                                                \n",
    "noi: di \"Negative : `sum_neg_alpha'  `mean_neg_alpha'  `share_neg_alpha' \" \n",
    "noi: di \"Positive : `sum_pos_alpha'    `mean_pos_alpha'  `share_pos_alpha' \"    \n",
    "}                            "
   ]
  },
  {
   "cell_type": "markdown",
   "id": "8033d7ac-4131-49a4-943a-8bc1b63b5835",
   "metadata": {},
   "source": [
    "## Table B7: Panel B"
   ]
  },
  {
   "cell_type": "code",
   "execution_count": 13,
   "id": "a5d2e165-5635-4a25-9cff-7287fba3c1b5",
   "metadata": {},
   "outputs": [
    {
     "name": "stdout",
     "output_type": "stream",
     "text": [
      "\n",
      ". qui{\n"
     ]
    },
    {
     "name": "stdout",
     "output_type": "stream",
     "text": [
      "correlation\n",
      " alpha_k               1\n",
      " g_k                   .702   1\n",
      " beta_k                .23   .508    1\n",
      " F_k                   .0575   .311    .68   1\n",
      " Var(z_k)              .765   .608    .37   .609   1\n",
      "\n",
      ". \n"
     ]
    }
   ],
   "source": [
    "%%stata\n",
    "qui{\n",
    "corr alpha1 G1 beta1 F var_iv\n",
    "mat corr = r(C)\n",
    "qui: mat list corr\n",
    "forvalues i =1/5 {\n",
    "forvalues j = `i'/5 {\n",
    "local c_`i'_`j' = string(corr[`i',`j'], \"%9.3g\")\n",
    "}\n",
    "}\n",
    "noi: di \"correlation\"\n",
    "noi: di \" alpha_k               1\" \n",
    "noi: di \" g_k                   `c_1_2'   1\" \n",
    "noi: di \" beta_k                `c_1_3'   `c_2_3'    1\" \n",
    "noi: di \" F_k                   `c_1_4'   `c_2_4'    `c_3_4'   1\" \n",
    "noi: di \" Var(z_k)              `c_1_5'   `c_2_5'    `c_3_5'   `c_4_5'   1\" \n",
    "}"
   ]
  },
  {
   "cell_type": "markdown",
   "id": "ee8b3d9f-6729-4978-97ca-c5067dea3ed4",
   "metadata": {},
   "source": [
    "## Table 4: Panel A / Table B7: Panel C"
   ]
  },
  {
   "cell_type": "code",
   "execution_count": 15,
   "id": "e152f5c0-09e7-430a-a9f0-86f71080e9bd",
   "metadata": {
    "tags": []
   },
   "outputs": [
    {
     "name": "stdout",
     "output_type": "stream",
     "text": [
      "\n",
      ". qui{\n"
     ]
    },
    {
     "name": "stdout",
     "output_type": "stream",
     "text": [
      "     commuting time  : alpha     beta_k  F  G 95 % CI  \n",
      "      less than 30 min:  -0.397   4.620 1807.293 　0.050   [0.626, 8.595]\n",
      " between 30 and 60 min:  0.551   2.415 722.220 　0.155   [-2.618, 7.456]\n",
      " between 60 and 90 min:  0.659   6.820 1681.096 　0.188   [2.448, 11.213]\n",
      "between 90 and 120 min:  0.185   4.451 439.269 　0.212   [-1.651, 10.416]\n",
      "     more than 120 min:  0.003   4.014 26.637 　0.042   [-12.010, 20.775]\n",
      "\n",
      ". \n"
     ]
    }
   ],
   "source": [
    "%%stata\n",
    "qui{\n",
    "use rotemberg_result,clear\n",
    " foreach cat in `cats' {\n",
    "   sum alpha1 if cat == `cat'\n",
    "   local alpha_`cat' = string(r(mean),\"%9.3f\")\n",
    "   sum G1 if cat == `cat' \n",
    "   local G_`cat' = string(r(mean), \"%9.3f\")\n",
    "   sum beta1 if cat == `cat'\n",
    "   local beta_`cat' = string(r(mean),\"%9.3f\")  \n",
    "   sum F if cat == `cat'\n",
    "   local F_`cat' = string(r(mean),\"%9.3f\")      \n",
    "   gen first_commute_time = commute_time   if cat == `cat'\n",
    "   gsort - first_commute_time \n",
    "   list first_commute_time \n",
    "   local commute_time_`cat'=first_commute_time[1]\n",
    "   drop first_commute_time    \n",
    "}\n",
    "use rotemberg_data,clear\n",
    "foreach cat in `cats' {\n",
    "   tempvar temp\n",
    "   qui gen `temp' =  `share_stub'`cat' * `shift_stub'`cat'\n",
    "   ch_weak, p(.05) beta_range(-10.0(.01)5.0)  y(`y') x(`x') z(`temp') cluster(`clsvars')\n",
    "   local omega_min= r(beta_min)*(1+`suicide_f_`sfx'_m')/(`suicide_f_`sfx'_m')\n",
    "   local omega_max= r(beta_max)*(1+`suicide_f_`sfx'_m')/(`suicide_f_`sfx'_m')\n",
    "   local ci_min_`cat' =string(`omega_min', \"%20.3f\")\n",
    "   local ci_max_`cat' =string(`omega_max', \"%20.3f\")\n",
    "   if `cat'>=1{ \n",
    "   if `cat'==1{\n",
    "   noi: disp  as text \"     commuting time  : alpha     beta_k  F  G 95 % CI  \"\n",
    "   }\n",
    "   noi: disp \"`commute_time_`cat'':  `alpha_`cat''   `beta_`cat'' `F_`cat'' 　`G_`cat''   [`ci_min_`cat'', `ci_max_`cat'']\"\n",
    "   }\n",
    "   drop `temp'\n",
    "}\n",
    "}"
   ]
  },
  {
   "cell_type": "markdown",
   "id": "81a1aefb-f88d-4d54-9e33-7ac06689aa04",
   "metadata": {},
   "source": [
    "## Table B7: Panel D"
   ]
  },
  {
   "cell_type": "code",
   "execution_count": 16,
   "id": "b3153f4c-ac50-47a9-b784-05ae116427f9",
   "metadata": {
    "tags": []
   },
   "outputs": [
    {
     "name": "stdout",
     "output_type": "stream",
     "text": [
      "\n",
      ". qui{\n",
      " beta_k   : weight_sum    share sum \n",
      " Negative : -1.835   -0.381       4.620 \n",
      " Positive : 6.658   1.381       4.425 \n",
      "\n",
      ". \n"
     ]
    }
   ],
   "source": [
    "%%stata\n",
    "qui{\n",
    "use rotemberg_result,clear\n",
    "drop if alpha_sign==0    \n",
    "gen positive_weight = alpha1 > 0\n",
    "gen beta1_weight = beta1 * alpha1\n",
    "collapse (sum) beta1_weight alpha1 (mean)  beta1, by(positive_weight)\n",
    "gsort -positive_weight\n",
    "gen beta1_share=beta1_weight/`b'    \n",
    "local agg_beta_pos = string( beta1_weight[1], \"%20.3f\")\n",
    "local agg_beta_neg = string( beta1_weight[2], \"%20.3f\")\n",
    "local share_beta_pos = string( beta1_share[1], \"%20.3f\")\n",
    "local share_beta_neg = string( beta1_share[2], \"%20.3f\")    \n",
    "local agg_beta_pos2 = string(beta1[1], \"%20.3f\")\n",
    "local agg_beta_neg2 = string(beta1[2], \"%20.3f\")\n",
    "noi: di  as text \" beta_k   : weight_sum    share sum \"     \n",
    "noi: di  as text \" Negative : `agg_beta_neg'   `share_beta_neg'       `agg_beta_neg2' \" \n",
    "noi: di  as text \" Positive : `agg_beta_pos'   `share_beta_pos'       `agg_beta_pos2' \" \n",
    "}"
   ]
  },
  {
   "cell_type": "code",
   "execution_count": null,
   "id": "9d4f69e2",
   "metadata": {},
   "outputs": [],
   "source": []
  }
 ],
 "metadata": {
  "kernelspec": {
   "display_name": ".venv",
   "language": "python",
   "name": "python3"
  },
  "language_info": {
   "codemirror_mode": {
    "name": "ipython",
    "version": 3
   },
   "file_extension": ".py",
   "mimetype": "text/x-python",
   "name": "python",
   "nbconvert_exporter": "python",
   "pygments_lexer": "ipython3",
   "version": "3.12.11"
  }
 },
 "nbformat": 4,
 "nbformat_minor": 5
}
